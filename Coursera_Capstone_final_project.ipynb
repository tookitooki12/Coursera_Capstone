{
 "cells": [
  {
   "cell_type": "markdown",
   "metadata": {
    "colab_type": "text",
    "id": "1KR4ZlBxMq1g"
   },
   "source": [
    "# Coursera - Capstone Project for IBM Data Science Certificate\n",
    "## \"The battle of the neighborhoods\" \n",
    "\n",
    "**Description**\n",
    "\n",
    "This is the final assignment the Coursera Capstone Project\n",
    "> https://www.coursera.org/learn/applied-data-science-capstone/home/info\n",
    "\n",
    "**Objective:** Recommend a city in Dubai best fit for opening a new Hotel / Restaurant.\n",
    "\n",
    "\n",
    "**Data Sources:** (csv file of Dubai Neighborhood coordinates via Box)\n",
    "\n",
    "> https://app.box.com/s/gv2vdfvgsa4c6r23k6ia2ikgso14yrkz\n",
    "\n",
    "**GitHub repository**\n",
    "\n",
    "> https://github.com/tookitooki12/Coursera_Capstone\n",
    "\n",
    "**Table of contents:**\n",
    "\n",
    "*   **System & Data Setup**\n",
    "*   **1** - Create table with postal codes\n",
    "*   **2** - Setup Neighborhood map using folium & 'Latititude', 'Longitude' from csv\n",
    "*   **3** - Cluster Venues by neighborhood and analysis of 'best' fit for new location"
   ]
  },
  {
   "cell_type": "markdown",
   "metadata": {
    "colab_type": "text",
    "id": "R2zm8VlDtaCm"
   },
   "source": [
    "## System & Data Setup"
   ]
  },
  {
   "cell_type": "code",
   "execution_count": 1,
   "metadata": {
    "colab": {
     "base_uri": "https://localhost:8080/",
     "height": 133
    },
    "colab_type": "code",
    "id": "Vvd1BmEAL6-V",
    "outputId": "7d30b9ad-89d7-4e6c-bae4-4bb7468b395f"
   },
   "outputs": [
    {
     "name": "stdout",
     "output_type": "stream",
     "text": [
      "Requirement already satisfied: geopy in /home/jupyterlab/conda/lib/python3.6/site-packages (1.11.0)\n",
      "Requirement already satisfied: folium in /home/jupyterlab/conda/lib/python3.6/site-packages (0.5.0)\n",
      "Requirement already satisfied: branca in /home/jupyterlab/conda/lib/python3.6/site-packages (from folium) (0.3.1)\n",
      "Requirement already satisfied: jinja2 in /home/jupyterlab/conda/lib/python3.6/site-packages (from folium) (2.10)\n",
      "Requirement already satisfied: requests in /home/jupyterlab/conda/lib/python3.6/site-packages (from folium) (2.21.0)\n",
      "Requirement already satisfied: six in /home/jupyterlab/conda/lib/python3.6/site-packages (from folium) (1.12.0)\n",
      "Requirement already satisfied: MarkupSafe>=0.23 in /home/jupyterlab/conda/lib/python3.6/site-packages (from jinja2->folium) (1.1.0)\n",
      "Requirement already satisfied: chardet<3.1.0,>=3.0.2 in /home/jupyterlab/conda/lib/python3.6/site-packages (from requests->folium) (3.0.4)\n",
      "Requirement already satisfied: certifi>=2017.4.17 in /home/jupyterlab/conda/lib/python3.6/site-packages (from requests->folium) (2018.11.29)\n",
      "Requirement already satisfied: urllib3<1.25,>=1.21.1 in /home/jupyterlab/conda/lib/python3.6/site-packages (from requests->folium) (1.24.1)\n",
      "Requirement already satisfied: idna<2.9,>=2.5 in /home/jupyterlab/conda/lib/python3.6/site-packages (from requests->folium) (2.8)\n"
     ]
    }
   ],
   "source": [
    "import pandas as pd\n",
    "import numpy as np\n",
    "import requests\n",
    "from bs4 import BeautifulSoup\n",
    "\n",
    "#mapping tools\n",
    "!pip install geopy \n",
    "from geopy.geocoders import Nominatim \n",
    "\n",
    "!pip install folium\n",
    "import folium # map rendering library\n",
    "\n",
    "def warn(*args, **kwargs):\n",
    "    pass\n",
    "import warnings\n",
    "warnings.warn = warn"
   ]
  },
  {
   "cell_type": "markdown",
   "metadata": {
    "colab_type": "text",
    "id": "1DKeV54Rte6a"
   },
   "source": [
    "**be sure to load 'Dubai_neighborhoods.csv' into your working directory**"
   ]
  },
  {
   "cell_type": "code",
   "execution_count": null,
   "metadata": {},
   "outputs": [],
   "source": []
  },
  {
   "cell_type": "code",
   "execution_count": 2,
   "metadata": {
    "colab": {
     "base_uri": "https://localhost:8080/",
     "height": 34
    },
    "colab_type": "code",
    "id": "9onj4GYfrbEU",
    "outputId": "f318ca20-5658-4d93-d815-7a876f5f0f83"
   },
   "outputs": [
    {
     "name": "stdout",
     "output_type": "stream",
     "text": [
      "(23, 8)\n"
     ]
    }
   ],
   "source": [
    "# read csv file once loaded into working directory listed above\n",
    "Geospacial_Coordinates = pd.read_csv('https://app.box.com/shared/static/gv2vdfvgsa4c6r23k6ia2ikgso14yrkz.csv', sep = ',') \n",
    "# examine the shape of original input data\n",
    "print(Geospacial_Coordinates.shape)"
   ]
  },
  {
   "cell_type": "markdown",
   "metadata": {
    "colab_type": "text",
    "id": "kQhgQLap34kg"
   },
   "source": [
    "## Part 2 - Setup Dubai Neighborhood Map"
   ]
  },
  {
   "cell_type": "code",
   "execution_count": 3,
   "metadata": {
    "colab": {},
    "colab_type": "code",
    "id": "5o2HuYTzDAIl"
   },
   "outputs": [],
   "source": [
    "import json\n",
    "import requests\n",
    "import matplotlib.cm as cm\n",
    "import matplotlib.colors as colors\n",
    "from sklearn.cluster import KMeans\n",
    "from pandas.io.json import json_normalize # tranform JSON file into a pandas dataframe"
   ]
  },
  {
   "cell_type": "code",
   "execution_count": 4,
   "metadata": {
    "colab": {
     "base_uri": "https://localhost:8080/",
     "height": 204
    },
    "colab_type": "code",
    "id": "d9AJIj3bTUQ9",
    "outputId": "35747bba-0ec7-4dab-b66d-6e8abef54b09"
   },
   "outputs": [
    {
     "data": {
      "text/html": [
       "<div>\n",
       "<style scoped>\n",
       "    .dataframe tbody tr th:only-of-type {\n",
       "        vertical-align: middle;\n",
       "    }\n",
       "\n",
       "    .dataframe tbody tr th {\n",
       "        vertical-align: top;\n",
       "    }\n",
       "\n",
       "    .dataframe thead th {\n",
       "        text-align: right;\n",
       "    }\n",
       "</style>\n",
       "<table border=\"1\" class=\"dataframe\">\n",
       "  <thead>\n",
       "    <tr style=\"text-align: right;\">\n",
       "      <th></th>\n",
       "      <th>Neighborhood</th>\n",
       "      <th>Avg Rent Per Unit</th>\n",
       "      <th>Z-Score</th>\n",
       "      <th>Distance from Palm</th>\n",
       "      <th>Distance from Zabeel</th>\n",
       "      <th>Distance from Jumeirah</th>\n",
       "      <th>Latitude</th>\n",
       "      <th>Longitude</th>\n",
       "    </tr>\n",
       "  </thead>\n",
       "  <tbody>\n",
       "    <tr>\n",
       "      <th>0</th>\n",
       "      <td>Discovery Gardens</td>\n",
       "      <td>44,672</td>\n",
       "      <td>-1.53</td>\n",
       "      <td>8.18</td>\n",
       "      <td>26.15</td>\n",
       "      <td>20.73</td>\n",
       "      <td>25.0390</td>\n",
       "      <td>55.1445</td>\n",
       "    </tr>\n",
       "    <tr>\n",
       "      <th>1</th>\n",
       "      <td>Dubai Silicon Oasis</td>\n",
       "      <td>54,417</td>\n",
       "      <td>-1.30</td>\n",
       "      <td>24.96</td>\n",
       "      <td>13.31</td>\n",
       "      <td>16.39</td>\n",
       "      <td>25.1279</td>\n",
       "      <td>55.3863</td>\n",
       "    </tr>\n",
       "    <tr>\n",
       "      <th>2</th>\n",
       "      <td>Jumeirah Village Circle</td>\n",
       "      <td>60,068</td>\n",
       "      <td>-1.17</td>\n",
       "      <td>9.16</td>\n",
       "      <td>20.56</td>\n",
       "      <td>16.13</td>\n",
       "      <td>25.0602</td>\n",
       "      <td>55.2094</td>\n",
       "    </tr>\n",
       "    <tr>\n",
       "      <th>3</th>\n",
       "      <td>Dubai Sports City</td>\n",
       "      <td>62,753</td>\n",
       "      <td>-1.10</td>\n",
       "      <td>11.36</td>\n",
       "      <td>22.32</td>\n",
       "      <td>18.28</td>\n",
       "      <td>25.0391</td>\n",
       "      <td>55.2176</td>\n",
       "    </tr>\n",
       "    <tr>\n",
       "      <th>4</th>\n",
       "      <td>Remraam</td>\n",
       "      <td>67,284</td>\n",
       "      <td>-0.99</td>\n",
       "      <td>16.71</td>\n",
       "      <td>25.27</td>\n",
       "      <td>22.27</td>\n",
       "      <td>25.0014</td>\n",
       "      <td>55.2508</td>\n",
       "    </tr>\n",
       "  </tbody>\n",
       "</table>\n",
       "</div>"
      ],
      "text/plain": [
       "              Neighborhood Avg Rent Per Unit  Z-Score  Distance from Palm  \\\n",
       "0        Discovery Gardens            44,672    -1.53                8.18   \n",
       "1      Dubai Silicon Oasis            54,417    -1.30               24.96   \n",
       "2  Jumeirah Village Circle            60,068    -1.17                9.16   \n",
       "3        Dubai Sports City            62,753    -1.10               11.36   \n",
       "4                  Remraam            67,284    -0.99               16.71   \n",
       "\n",
       "   Distance from Zabeel  Distance from Jumeirah  Latitude  Longitude  \n",
       "0                 26.15                   20.73   25.0390    55.1445  \n",
       "1                 13.31                   16.39   25.1279    55.3863  \n",
       "2                 20.56                   16.13   25.0602    55.2094  \n",
       "3                 22.32                   18.28   25.0391    55.2176  \n",
       "4                 25.27                   22.27   25.0014    55.2508  "
      ]
     },
     "execution_count": 4,
     "metadata": {},
     "output_type": "execute_result"
    }
   ],
   "source": [
    "Geo = pd.DataFrame(Geospacial_Coordinates)\n",
    "Geo.head()"
   ]
  },
  {
   "cell_type": "code",
   "execution_count": 5,
   "metadata": {
    "colab": {
     "base_uri": "https://localhost:8080/",
     "height": 102
    },
    "colab_type": "code",
    "id": "8wxH76tnGIkT",
    "outputId": "74d03147-a82b-4122-b6ff-a9e4e3c2cb89"
   },
   "outputs": [
    {
     "data": {
      "text/plain": [
       "Neighborhood               object\n",
       "Avg Rent Per Unit          object\n",
       "Z-Score                   float64\n",
       "Distance from Palm        float64\n",
       "Distance from Zabeel      float64\n",
       "Distance from Jumeirah    float64\n",
       "Latitude                  float64\n",
       "Longitude                 float64\n",
       "dtype: object"
      ]
     },
     "execution_count": 5,
     "metadata": {},
     "output_type": "execute_result"
    }
   ],
   "source": [
    "Geo.dtypes"
   ]
  },
  {
   "cell_type": "code",
   "execution_count": 6,
   "metadata": {
    "colab": {
     "base_uri": "https://localhost:8080/",
     "height": 34
    },
    "colab_type": "code",
    "id": "rx1NHmNpx6dr",
    "outputId": "463f49e1-84c5-483c-e4c2-1455511ef3bd"
   },
   "outputs": [
    {
     "name": "stdout",
     "output_type": "stream",
     "text": [
      "The geograpical coordinate of Dubai, UAE are 25.0750095, 55.1887608818332.\n"
     ]
    }
   ],
   "source": [
    "address = 'Dubai, UAE'\n",
    "\n",
    "geolocator = Nominatim()\n",
    "location = geolocator.geocode(address)\n",
    "latitude = location.latitude\n",
    "longitude = location.longitude\n",
    "print('The geograpical coordinate of Dubai, UAE are {}, {}.'.format(latitude, longitude))"
   ]
  },
  {
   "cell_type": "code",
   "execution_count": 7,
   "metadata": {
    "colab": {
     "base_uri": "https://localhost:8080/",
     "height": 232
    },
    "colab_type": "code",
    "id": "TCx-U0AS8S5X",
    "outputId": "9a4b9a73-9ea5-45d5-c158-f022cf5d7d97"
   },
   "outputs": [
    {
     "data": {
      "text/html": [
       "<div style=\"width:100%;\"><div style=\"position:relative;width:100%;height:0;padding-bottom:60%;\"><iframe src=\"data:text/html;charset=utf-8;base64,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\" style=\"position:absolute;width:100%;height:100%;left:0;top:0;border:none !important;\" allowfullscreen webkitallowfullscreen mozallowfullscreen></iframe></div></div>"
      ],
      "text/plain": [
       "<folium.folium.Map at 0x7f023cb53ac8>"
      ]
     },
     "execution_count": 7,
     "metadata": {},
     "output_type": "execute_result"
    }
   ],
   "source": [
    "# create map of Dubai using latitude and longitude values\n",
    "map_dubai = folium.Map(location=[latitude, longitude], zoom_start=12)\n",
    "\n",
    "# add markers to map\n",
    "for lat, lng, neighborhood in zip(Geo['Latitude'], Geo['Longitude'], Geo['Neighborhood']):\n",
    "    label = '{}'.format(neighborhood)\n",
    "    label = folium.Popup(label, parse_html=True)\n",
    "    folium.CircleMarker(\n",
    "        [lat, lng],\n",
    "        radius=10,\n",
    "        popup=label,\n",
    "        color='blue',\n",
    "        fill=True,\n",
    "        fill_color='#3186cc',\n",
    "        fill_opacity=0.7).add_to(map_dubai)  \n",
    "    \n",
    "map_dubai"
   ]
  },
  {
   "cell_type": "markdown",
   "metadata": {
    "colab_type": "text",
    "id": "JmnY9hAaJNy9"
   },
   "source": [
    "### Part 2a - initial neighborhood comparison using Foursquare API"
   ]
  },
  {
   "cell_type": "code",
   "execution_count": 8,
   "metadata": {
    "colab": {
     "base_uri": "https://localhost:8080/",
     "height": 68
    },
    "colab_type": "code",
    "id": "3f2RSWI_70DS",
    "outputId": "291e349f-3367-4a01-e874-ac7b9dc86223"
   },
   "outputs": [
    {
     "name": "stdout",
     "output_type": "stream",
     "text": [
      "Your credentails:\n",
      "CLIENT_ID: AR2WMOIEQ2H1CLUCD5FPYJLWOQOOEQ2SNYYUIJQS5NKFVDV1\n",
      "CLIENT_SECRET:P3PCXVFK5CLFBLE25KUXVHQ0YNUNTV4KGGBSSXQ4AEDQLQ3E\n"
     ]
    }
   ],
   "source": [
    "CLIENT_ID = 'AR2WMOIEQ2H1CLUCD5FPYJLWOQOOEQ2SNYYUIJQS5NKFVDV1' # my Foursquare ID\n",
    "CLIENT_SECRET = 'P3PCXVFK5CLFBLE25KUXVHQ0YNUNTV4KGGBSSXQ4AEDQLQ3E' # your Foursquare Secret\n",
    "VERSION = '20190303' # Foursquare API version\n",
    "radius = 500\n",
    "LIMIT = 250\n",
    "\n",
    "print('Your credentails:')\n",
    "print('CLIENT_ID: ' + CLIENT_ID)\n",
    "print('CLIENT_SECRET:' + CLIENT_SECRET)"
   ]
  },
  {
   "cell_type": "markdown",
   "metadata": {
    "colab_type": "text",
    "id": "VrPnViY7Jy5i"
   },
   "source": [
    "**Let's explore 'Dubai Investment Park' which sounds wealthy**"
   ]
  },
  {
   "cell_type": "code",
   "execution_count": 9,
   "metadata": {
    "colab": {
     "base_uri": "https://localhost:8080/",
     "height": 34
    },
    "colab_type": "code",
    "id": "xtmVJXWJJyfW",
    "outputId": "87128c8d-2cc7-4b0e-c87e-1f1826affcac"
   },
   "outputs": [
    {
     "name": "stdout",
     "output_type": "stream",
     "text": [
      "Latitude and longitude values of Dubai Investments Park are 24.979, 55.1762.\n"
     ]
    }
   ],
   "source": [
    "#define objects for 'Studio District' index [15] in Geo\n",
    "neighborhood_latitude = Geo.loc[16, 'Latitude'] # neighborhood latitude value\n",
    "neighborhood_longitude = Geo.loc[16, 'Longitude'] # neighborhood longitude value\n",
    "neighborhood_name = Geo.loc[16, 'Neighborhood'] # neighborhood name\n",
    "\n",
    "print('Latitude and longitude values of {} are {}, {}.'.format(neighborhood_name, \n",
    "                                                               neighborhood_latitude, \n",
    "                                                               neighborhood_longitude))"
   ]
  },
  {
   "cell_type": "markdown",
   "metadata": {
    "colab_type": "text",
    "id": "eT5USnctKfuy"
   },
   "source": [
    "**Now, let's get the top 100 venues that are in Dubai Investment Park within a radius of 500 meters.**"
   ]
  },
  {
   "cell_type": "code",
   "execution_count": 10,
   "metadata": {
    "colab": {
     "base_uri": "https://localhost:8080/",
     "height": 74
    },
    "colab_type": "code",
    "id": "c6pg3Gq_KWfE",
    "outputId": "e1a3011a-b25f-43ed-9ca6-ba50284e76f5"
   },
   "outputs": [
    {
     "data": {
      "text/plain": [
       "'https://api.foursquare.com/v2/venues/explore?&client_id=AR2WMOIEQ2H1CLUCD5FPYJLWOQOOEQ2SNYYUIJQS5NKFVDV1&client_secret=P3PCXVFK5CLFBLE25KUXVHQ0YNUNTV4KGGBSSXQ4AEDQLQ3E&v=20190303&ll=24.979,55.1762&radius=500&limit=250'"
      ]
     },
     "execution_count": 10,
     "metadata": {},
     "output_type": "execute_result"
    }
   ],
   "source": [
    "#step 1 - create the correct GET request URL\n",
    "url = 'https://api.foursquare.com/v2/venues/explore?&client_id={}&client_secret={}&v={}&ll={},{}&radius={}&limit={}'.format(\n",
    "    CLIENT_ID, \n",
    "    CLIENT_SECRET, \n",
    "    VERSION, \n",
    "    neighborhood_latitude, \n",
    "    neighborhood_longitude, \n",
    "    radius, \n",
    "    LIMIT)\n",
    "url # display GET request URL"
   ]
  },
  {
   "cell_type": "code",
   "execution_count": 11,
   "metadata": {
    "colab": {},
    "colab_type": "code",
    "id": "IdgAYPHLKeIc"
   },
   "outputs": [
    {
     "data": {
      "text/plain": [
       "{'meta': {'code': 200, 'requestId': '5c7e0927f594df76b8f68194'},\n",
       " 'response': {'warning': {'text': \"There aren't a lot of results near you. Try something more general, reset your filters, or expand the search area.\"},\n",
       "  'headerLocation': 'Current map view',\n",
       "  'headerFullLocation': 'Current map view',\n",
       "  'headerLocationGranularity': 'unknown',\n",
       "  'totalResults': 3,\n",
       "  'suggestedBounds': {'ne': {'lat': 24.983500004500005,\n",
       "    'lng': 55.181155088448826},\n",
       "   'sw': {'lat': 24.974499995499993, 'lng': 55.17124491155118}},\n",
       "  'groups': [{'type': 'Recommended Places',\n",
       "    'name': 'recommended',\n",
       "    'items': [{'reasons': {'count': 0,\n",
       "       'items': [{'summary': 'This spot is popular',\n",
       "         'type': 'general',\n",
       "         'reasonName': 'globalInteractionReason'}]},\n",
       "      'venue': {'id': '5214eb2611d2556daaa1461d',\n",
       "       'name': 'Rock Republic',\n",
       "       'location': {'address': 'Dubai Investment Park',\n",
       "        'lat': 24.980327525686636,\n",
       "        'lng': 55.17418454504484,\n",
       "        'labeledLatLngs': [{'label': 'display',\n",
       "          'lat': 24.980327525686636,\n",
       "          'lng': 55.17418454504484}],\n",
       "        'distance': 251,\n",
       "        'cc': 'AE',\n",
       "        'city': 'دبي',\n",
       "        'state': 'دبي',\n",
       "        'country': 'الإمارات العربية المتحدة',\n",
       "        'formattedAddress': ['Dubai Investment Park',\n",
       "         'دبي',\n",
       "         'الإمارات العربية المتحدة']},\n",
       "       'categories': [{'id': '50328a4b91d4c4b30a586d6b',\n",
       "         'name': 'Rock Climbing Spot',\n",
       "         'pluralName': 'Rock Climbing Spots',\n",
       "         'shortName': 'Rock Climbing',\n",
       "         'icon': {'prefix': 'https://ss3.4sqi.net/img/categories_v2/parks_outdoors/rockclimbing_',\n",
       "          'suffix': '.png'},\n",
       "         'primary': True}],\n",
       "       'photos': {'count': 0, 'groups': []}},\n",
       "      'referralId': 'e-0-5214eb2611d2556daaa1461d-0'},\n",
       "     {'reasons': {'count': 0,\n",
       "       'items': [{'summary': 'This spot is popular',\n",
       "         'type': 'general',\n",
       "         'reasonName': 'globalInteractionReason'}]},\n",
       "      'venue': {'id': '5849fab3730a9237928dca2b',\n",
       "       'name': 'CanvasJet',\n",
       "       'location': {'address': 'Dubai Investments Park',\n",
       "        'lat': 24.979170773888367,\n",
       "        'lng': 55.17607569694519,\n",
       "        'labeledLatLngs': [{'label': 'display',\n",
       "          'lat': 24.979170773888367,\n",
       "          'lng': 55.17607569694519}],\n",
       "        'distance': 22,\n",
       "        'postalCode': '65336',\n",
       "        'cc': 'AE',\n",
       "        'city': 'دبي',\n",
       "        'state': 'دبي',\n",
       "        'country': 'الإمارات العربية المتحدة',\n",
       "        'formattedAddress': ['Dubai Investments Park',\n",
       "         'دبي',\n",
       "         'الإمارات العربية المتحدة']},\n",
       "       'categories': [{'id': '52f2ab2ebcbc57f1066b8b28',\n",
       "         'name': 'Print Shop',\n",
       "         'pluralName': 'Print Shops',\n",
       "         'shortName': 'Print Shop',\n",
       "         'icon': {'prefix': 'https://ss3.4sqi.net/img/categories_v2/shops/default_',\n",
       "          'suffix': '.png'},\n",
       "         'primary': True}],\n",
       "       'photos': {'count': 0, 'groups': []}},\n",
       "      'referralId': 'e-0-5849fab3730a9237928dca2b-1'},\n",
       "     {'reasons': {'count': 0,\n",
       "       'items': [{'summary': 'This spot is popular',\n",
       "         'type': 'general',\n",
       "         'reasonName': 'globalInteractionReason'}]},\n",
       "      'venue': {'id': '5a69a8457269fe684648f349',\n",
       "       'name': 'Fetchr Warehouse',\n",
       "       'location': {'lat': 24.976082,\n",
       "        'lng': 55.174012,\n",
       "        'labeledLatLngs': [{'label': 'display',\n",
       "          'lat': 24.976082,\n",
       "          'lng': 55.174012}],\n",
       "        'distance': 392,\n",
       "        'cc': 'AE',\n",
       "        'city': 'دبي',\n",
       "        'state': 'دبي',\n",
       "        'country': 'الإمارات العربية المتحدة',\n",
       "        'formattedAddress': ['دبي', 'الإمارات العربية المتحدة']},\n",
       "       'categories': [{'id': '52f2ab2ebcbc57f1066b8b1f',\n",
       "         'name': 'Shipping Store',\n",
       "         'pluralName': 'Shipping Stores',\n",
       "         'shortName': 'Shipping Store',\n",
       "         'icon': {'prefix': 'https://ss3.4sqi.net/img/categories_v2/shops/default_',\n",
       "          'suffix': '.png'},\n",
       "         'primary': True}],\n",
       "       'photos': {'count': 0, 'groups': []}},\n",
       "      'referralId': 'e-0-5a69a8457269fe684648f349-2'}]}]}}"
      ]
     },
     "execution_count": 11,
     "metadata": {},
     "output_type": "execute_result"
    }
   ],
   "source": [
    "results = requests.get(url).json()\n",
    "results # remove ';' if you want to see json data"
   ]
  },
  {
   "cell_type": "markdown",
   "metadata": {
    "colab_type": "text",
    "id": "aoSdOeDdMJnb"
   },
   "source": [
    "**clean the json and structure it into a *pandas* dataframe.**"
   ]
  },
  {
   "cell_type": "code",
   "execution_count": 12,
   "metadata": {
    "colab": {},
    "colab_type": "code",
    "id": "6OhtgJwILxKP"
   },
   "outputs": [],
   "source": [
    "# function that extracts the category of the venue\n",
    "def get_category_type(row):\n",
    "    try:\n",
    "        categories_list = row['categories']\n",
    "    except:\n",
    "        categories_list = row['venue.categories']\n",
    "        \n",
    "    if len(categories_list) == 0:\n",
    "        return None\n",
    "    else:\n",
    "        return categories_list[0]['name']"
   ]
  },
  {
   "cell_type": "code",
   "execution_count": 13,
   "metadata": {
    "colab": {
     "base_uri": "https://localhost:8080/",
     "height": 204
    },
    "colab_type": "code",
    "id": "8L1H0jQ8L9Qu",
    "outputId": "ae257d3a-40b2-4e80-d6bf-668b71b297ae"
   },
   "outputs": [
    {
     "name": "stdout",
     "output_type": "stream",
     "text": [
      "3 venues were returned by Foursquare.\n"
     ]
    },
    {
     "data": {
      "text/html": [
       "<div>\n",
       "<style scoped>\n",
       "    .dataframe tbody tr th:only-of-type {\n",
       "        vertical-align: middle;\n",
       "    }\n",
       "\n",
       "    .dataframe tbody tr th {\n",
       "        vertical-align: top;\n",
       "    }\n",
       "\n",
       "    .dataframe thead th {\n",
       "        text-align: right;\n",
       "    }\n",
       "</style>\n",
       "<table border=\"1\" class=\"dataframe\">\n",
       "  <thead>\n",
       "    <tr style=\"text-align: right;\">\n",
       "      <th></th>\n",
       "      <th>neighborhood</th>\n",
       "      <th>name</th>\n",
       "      <th>categories</th>\n",
       "      <th>lat</th>\n",
       "      <th>lng</th>\n",
       "    </tr>\n",
       "  </thead>\n",
       "  <tbody>\n",
       "    <tr>\n",
       "      <th>0</th>\n",
       "      <td>Dubai Investment Park</td>\n",
       "      <td>Rock Republic</td>\n",
       "      <td>Rock Climbing Spot</td>\n",
       "      <td>24.980328</td>\n",
       "      <td>55.174185</td>\n",
       "    </tr>\n",
       "    <tr>\n",
       "      <th>1</th>\n",
       "      <td>Dubai Investment Park</td>\n",
       "      <td>CanvasJet</td>\n",
       "      <td>Print Shop</td>\n",
       "      <td>24.979171</td>\n",
       "      <td>55.176076</td>\n",
       "    </tr>\n",
       "    <tr>\n",
       "      <th>2</th>\n",
       "      <td>Dubai Investment Park</td>\n",
       "      <td>Fetchr Warehouse</td>\n",
       "      <td>Shipping Store</td>\n",
       "      <td>24.976082</td>\n",
       "      <td>55.174012</td>\n",
       "    </tr>\n",
       "  </tbody>\n",
       "</table>\n",
       "</div>"
      ],
      "text/plain": [
       "            neighborhood              name          categories        lat  \\\n",
       "0  Dubai Investment Park     Rock Republic  Rock Climbing Spot  24.980328   \n",
       "1  Dubai Investment Park         CanvasJet          Print Shop  24.979171   \n",
       "2  Dubai Investment Park  Fetchr Warehouse      Shipping Store  24.976082   \n",
       "\n",
       "         lng  \n",
       "0  55.174185  \n",
       "1  55.176076  \n",
       "2  55.174012  "
      ]
     },
     "execution_count": 13,
     "metadata": {},
     "output_type": "execute_result"
    }
   ],
   "source": [
    "venues = results['response']['groups'][0]['items']\n",
    "    \n",
    "df_IP = json_normalize(venues) # flatten JSON\n",
    "\n",
    "# filter columns\n",
    "filtered_columns = ['venue.name', 'venue.categories', 'venue.location.lat', 'venue.location.lng']\n",
    "df_IP = df_IP.loc[:, filtered_columns]\n",
    "\n",
    "# filter the category for each row\n",
    "df_IP['venue.categories'] = df_IP.apply(get_category_type, axis=1)\n",
    "\n",
    "# clean columns\n",
    "\n",
    "df_IP.columns = [col.split(\".\")[-1] for col in df_IP.columns]\n",
    "df_IP.insert(0, 'neighborhood', 'Dubai Investment Park')\n",
    "\n",
    "print('{} venues were returned by Foursquare.'.format(df_IP.shape[0]))\n",
    "df_IP.head()"
   ]
  },
  {
   "cell_type": "markdown",
   "metadata": {
    "colab_type": "text",
    "id": "OSytwbPyOJhb"
   },
   "source": [
    "**create a map of the Marina district and highlight nearby venues"
   ]
  },
  {
   "cell_type": "code",
   "execution_count": 14,
   "metadata": {
    "colab": {
     "base_uri": "https://localhost:8080/",
     "height": 897
    },
    "colab_type": "code",
    "id": "KZYmojWGN7z9",
    "outputId": "2003fa22-c94d-46f9-cf95-e07fcbb0f283"
   },
   "outputs": [
    {
     "data": {
      "text/html": [
       "<div style=\"width:100%;\"><div style=\"position:relative;width:100%;height:0;padding-bottom:60%;\"><iframe src=\"data:text/html;charset=utf-8;base64,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\" style=\"position:absolute;width:100%;height:100%;left:0;top:0;border:none !important;\" allowfullscreen webkitallowfullscreen mozallowfullscreen></iframe></div></div>"
      ],
      "text/plain": [
       "<folium.folium.Map at 0x7f023ca92048>"
      ]
     },
     "execution_count": 14,
     "metadata": {},
     "output_type": "execute_result"
    }
   ],
   "source": [
    "map_IP = folium.Map(location=[neighborhood_latitude, neighborhood_longitude], zoom_start=15)\n",
    "\n",
    "# add markers to map\n",
    "for lat, lng, name, categories in zip(df_IP['lat'], df_IP['lng'], df_IP['name'], df_IP['categories']):\n",
    "  label = '{},{}'.format(categories,name)\n",
    "  label = folium.Popup(label, parse_html=True)\n",
    "  folium.CircleMarker(\n",
    "      [lat, lng],\n",
    "      radius=5,\n",
    "      popup=label,\n",
    "      color='blue',\n",
    "      fill=True,\n",
    "      fill_color='#3186cc',\n",
    "      fill_opacity=0.7).add_to(map_IP) \n",
    "    \n",
    "map_IP"
   ]
  },
  {
   "cell_type": "code",
   "execution_count": null,
   "metadata": {},
   "outputs": [],
   "source": []
  },
  {
   "cell_type": "markdown",
   "metadata": {},
   "source": [
    "### Let's create a similar dataframe for each neighborhood: "
   ]
  },
  {
   "cell_type": "markdown",
   "metadata": {},
   "source": [
    "**index # 9 - Al Sufouh**"
   ]
  },
  {
   "cell_type": "code",
   "execution_count": 15,
   "metadata": {},
   "outputs": [
    {
     "name": "stdout",
     "output_type": "stream",
     "text": [
      "5 venues were returned by Foursquare.\n"
     ]
    },
    {
     "data": {
      "text/html": [
       "<div>\n",
       "<style scoped>\n",
       "    .dataframe tbody tr th:only-of-type {\n",
       "        vertical-align: middle;\n",
       "    }\n",
       "\n",
       "    .dataframe tbody tr th {\n",
       "        vertical-align: top;\n",
       "    }\n",
       "\n",
       "    .dataframe thead th {\n",
       "        text-align: right;\n",
       "    }\n",
       "</style>\n",
       "<table border=\"1\" class=\"dataframe\">\n",
       "  <thead>\n",
       "    <tr style=\"text-align: right;\">\n",
       "      <th></th>\n",
       "      <th>neighborhood</th>\n",
       "      <th>name</th>\n",
       "      <th>categories</th>\n",
       "      <th>lat</th>\n",
       "      <th>lng</th>\n",
       "    </tr>\n",
       "  </thead>\n",
       "  <tbody>\n",
       "    <tr>\n",
       "      <th>0</th>\n",
       "      <td>Al Sufouh</td>\n",
       "      <td>Emirates Co-Op</td>\n",
       "      <td>Grocery Store</td>\n",
       "      <td>25.112435</td>\n",
       "      <td>55.173827</td>\n",
       "    </tr>\n",
       "    <tr>\n",
       "      <th>1</th>\n",
       "      <td>Al Sufouh</td>\n",
       "      <td>Shaikhath Al Arab Cafeteria  شيخة العرب كافتيريا</td>\n",
       "      <td>Cafeteria</td>\n",
       "      <td>25.112604</td>\n",
       "      <td>55.173924</td>\n",
       "    </tr>\n",
       "    <tr>\n",
       "      <th>2</th>\n",
       "      <td>Al Sufouh</td>\n",
       "      <td>Marina Pharmacy</td>\n",
       "      <td>Pharmacy</td>\n",
       "      <td>25.112530</td>\n",
       "      <td>55.173813</td>\n",
       "    </tr>\n",
       "    <tr>\n",
       "      <th>3</th>\n",
       "      <td>Al Sufouh</td>\n",
       "      <td>Al Sufouh Park</td>\n",
       "      <td>Playground</td>\n",
       "      <td>25.113393</td>\n",
       "      <td>55.171660</td>\n",
       "    </tr>\n",
       "    <tr>\n",
       "      <th>4</th>\n",
       "      <td>Al Sufouh</td>\n",
       "      <td>Pearl Residence Gym</td>\n",
       "      <td>College Gym</td>\n",
       "      <td>25.110788</td>\n",
       "      <td>55.179856</td>\n",
       "    </tr>\n",
       "  </tbody>\n",
       "</table>\n",
       "</div>"
      ],
      "text/plain": [
       "  neighborhood                                              name  \\\n",
       "0    Al Sufouh                                    Emirates Co-Op   \n",
       "1    Al Sufouh  Shaikhath Al Arab Cafeteria  شيخة العرب كافتيريا   \n",
       "2    Al Sufouh                                   Marina Pharmacy   \n",
       "3    Al Sufouh                                    Al Sufouh Park   \n",
       "4    Al Sufouh                               Pearl Residence Gym   \n",
       "\n",
       "      categories        lat        lng  \n",
       "0  Grocery Store  25.112435  55.173827  \n",
       "1      Cafeteria  25.112604  55.173924  \n",
       "2       Pharmacy  25.112530  55.173813  \n",
       "3     Playground  25.113393  55.171660  \n",
       "4    College Gym  25.110788  55.179856  "
      ]
     },
     "execution_count": 15,
     "metadata": {},
     "output_type": "execute_result"
    }
   ],
   "source": [
    "#define objects for 'Al Soufouh' index [9] in Geo\n",
    "neighborhood_latitude = Geo.loc[9, 'Latitude'] # neighborhood latitude value\n",
    "neighborhood_longitude = Geo.loc[9, 'Longitude'] # neighborhood longitude value\n",
    "neighborhood_name = Geo.loc[9, 'Neighborhood'] # neighborhood name\n",
    "\n",
    "#step 1 - create the correct GET request URL\n",
    "url = 'https://api.foursquare.com/v2/venues/explore?&client_id={}&client_secret={}&v={}&ll={},{}&radius={}&limit={}'.format(\n",
    "    CLIENT_ID, \n",
    "    CLIENT_SECRET, \n",
    "    VERSION, \n",
    "    neighborhood_latitude, \n",
    "    neighborhood_longitude, \n",
    "    radius, \n",
    "    LIMIT)\n",
    "\n",
    "results = requests.get(url).json()\n",
    "\n",
    "venues = results['response']['groups'][0]['items']\n",
    "    \n",
    "df_ASufouh = json_normalize(venues) # flatten JSON\n",
    "\n",
    "# filter columns\n",
    "filtered_columns = ['venue.name', 'venue.categories', 'venue.location.lat', 'venue.location.lng']\n",
    "df_ASufouh = df_ASufouh.loc[:, filtered_columns]\n",
    "\n",
    "# filter the category for each row\n",
    "df_ASufouh['venue.categories'] = df_ASufouh.apply(get_category_type, axis=1)\n",
    "\n",
    "# clean columns\n",
    "\n",
    "df_ASufouh.columns = [col.split(\".\")[-1] for col in df_ASufouh.columns]\n",
    "df_ASufouh.insert(0, 'neighborhood', 'Al Sufouh')\n",
    "\n",
    "print('{} venues were returned by Foursquare.'.format(df_ASufouh.shape[0]))\n",
    "df_ASufouh.head()"
   ]
  },
  {
   "cell_type": "markdown",
   "metadata": {},
   "source": [
    "**index # 10 DIFC**"
   ]
  },
  {
   "cell_type": "code",
   "execution_count": 16,
   "metadata": {},
   "outputs": [
    {
     "name": "stdout",
     "output_type": "stream",
     "text": [
      "79 venues were returned by Foursquare.\n"
     ]
    },
    {
     "data": {
      "text/html": [
       "<div>\n",
       "<style scoped>\n",
       "    .dataframe tbody tr th:only-of-type {\n",
       "        vertical-align: middle;\n",
       "    }\n",
       "\n",
       "    .dataframe tbody tr th {\n",
       "        vertical-align: top;\n",
       "    }\n",
       "\n",
       "    .dataframe thead th {\n",
       "        text-align: right;\n",
       "    }\n",
       "</style>\n",
       "<table border=\"1\" class=\"dataframe\">\n",
       "  <thead>\n",
       "    <tr style=\"text-align: right;\">\n",
       "      <th></th>\n",
       "      <th>neighborhood</th>\n",
       "      <th>name</th>\n",
       "      <th>categories</th>\n",
       "      <th>lat</th>\n",
       "      <th>lng</th>\n",
       "    </tr>\n",
       "  </thead>\n",
       "  <tbody>\n",
       "    <tr>\n",
       "      <th>0</th>\n",
       "      <td>DIFC</td>\n",
       "      <td>The Ritz-Carlton</td>\n",
       "      <td>Hotel</td>\n",
       "      <td>25.212517</td>\n",
       "      <td>55.279399</td>\n",
       "    </tr>\n",
       "    <tr>\n",
       "      <th>1</th>\n",
       "      <td>DIFC</td>\n",
       "      <td>The Sunken Garden</td>\n",
       "      <td>Hookah Bar</td>\n",
       "      <td>25.212093</td>\n",
       "      <td>55.280039</td>\n",
       "    </tr>\n",
       "    <tr>\n",
       "      <th>2</th>\n",
       "      <td>DIFC</td>\n",
       "      <td>Burger &amp; Lobster</td>\n",
       "      <td>Seafood Restaurant</td>\n",
       "      <td>25.211287</td>\n",
       "      <td>55.281787</td>\n",
       "    </tr>\n",
       "    <tr>\n",
       "      <th>3</th>\n",
       "      <td>DIFC</td>\n",
       "      <td>Carnival by Trèsind</td>\n",
       "      <td>Indian Restaurant</td>\n",
       "      <td>25.211010</td>\n",
       "      <td>55.282113</td>\n",
       "    </tr>\n",
       "    <tr>\n",
       "      <th>4</th>\n",
       "      <td>DIFC</td>\n",
       "      <td>Café Belge</td>\n",
       "      <td>Belgian Restaurant</td>\n",
       "      <td>25.212062</td>\n",
       "      <td>55.279914</td>\n",
       "    </tr>\n",
       "  </tbody>\n",
       "</table>\n",
       "</div>"
      ],
      "text/plain": [
       "  neighborhood                 name          categories        lat        lng\n",
       "0         DIFC     The Ritz-Carlton               Hotel  25.212517  55.279399\n",
       "1         DIFC    The Sunken Garden          Hookah Bar  25.212093  55.280039\n",
       "2         DIFC     Burger & Lobster  Seafood Restaurant  25.211287  55.281787\n",
       "3         DIFC  Carnival by Trèsind   Indian Restaurant  25.211010  55.282113\n",
       "4         DIFC           Café Belge  Belgian Restaurant  25.212062  55.279914"
      ]
     },
     "execution_count": 16,
     "metadata": {},
     "output_type": "execute_result"
    }
   ],
   "source": [
    "#define objects for 'DIFC' index [10] in Geo\n",
    "neighborhood_latitude = Geo.loc[10, 'Latitude'] # neighborhood latitude value\n",
    "neighborhood_longitude = Geo.loc[10, 'Longitude'] # neighborhood longitude value\n",
    "neighborhood_name = Geo.loc[10, 'Neighborhood'] # neighborhood name\n",
    "\n",
    "#step 1 - create the correct GET request URL\n",
    "url = 'https://api.foursquare.com/v2/venues/explore?&client_id={}&client_secret={}&v={}&ll={},{}&radius={}&limit={}'.format(\n",
    "    CLIENT_ID, \n",
    "    CLIENT_SECRET, \n",
    "    VERSION, \n",
    "    neighborhood_latitude, \n",
    "    neighborhood_longitude, \n",
    "    radius, \n",
    "    LIMIT)\n",
    "\n",
    "results = requests.get(url).json()\n",
    "\n",
    "venues = results['response']['groups'][0]['items']\n",
    "    \n",
    "df_DIFC = json_normalize(venues) # flatten JSON\n",
    "\n",
    "# filter columns\n",
    "filtered_columns = ['venue.name', 'venue.categories', 'venue.location.lat', 'venue.location.lng']\n",
    "df_DIFC = df_DIFC.loc[:, filtered_columns]\n",
    "\n",
    "# filter the category for each row\n",
    "df_DIFC['venue.categories'] = df_DIFC.apply(get_category_type, axis=1)\n",
    "\n",
    "# clean columns\n",
    "\n",
    "df_DIFC.columns = [col.split(\".\")[-1] for col in df_DIFC.columns]\n",
    "df_DIFC.insert(0, 'neighborhood', 'DIFC')\n",
    "\n",
    "print('{} venues were returned by Foursquare.'.format(df_DIFC.shape[0]))\n",
    "df_DIFC.head()"
   ]
  },
  {
   "cell_type": "markdown",
   "metadata": {},
   "source": [
    "**index # 11 Business Bay**"
   ]
  },
  {
   "cell_type": "code",
   "execution_count": 17,
   "metadata": {},
   "outputs": [
    {
     "name": "stdout",
     "output_type": "stream",
     "text": [
      "23 venues were returned by Foursquare.\n"
     ]
    },
    {
     "data": {
      "text/html": [
       "<div>\n",
       "<style scoped>\n",
       "    .dataframe tbody tr th:only-of-type {\n",
       "        vertical-align: middle;\n",
       "    }\n",
       "\n",
       "    .dataframe tbody tr th {\n",
       "        vertical-align: top;\n",
       "    }\n",
       "\n",
       "    .dataframe thead th {\n",
       "        text-align: right;\n",
       "    }\n",
       "</style>\n",
       "<table border=\"1\" class=\"dataframe\">\n",
       "  <thead>\n",
       "    <tr style=\"text-align: right;\">\n",
       "      <th></th>\n",
       "      <th>neighborhood</th>\n",
       "      <th>name</th>\n",
       "      <th>categories</th>\n",
       "      <th>lat</th>\n",
       "      <th>lng</th>\n",
       "    </tr>\n",
       "  </thead>\n",
       "  <tbody>\n",
       "    <tr>\n",
       "      <th>0</th>\n",
       "      <td>Business Bay</td>\n",
       "      <td>Renaissance Downtown Hotel, Dubai</td>\n",
       "      <td>Hotel</td>\n",
       "      <td>25.185675</td>\n",
       "      <td>55.273650</td>\n",
       "    </tr>\n",
       "    <tr>\n",
       "      <th>1</th>\n",
       "      <td>Business Bay</td>\n",
       "      <td>Basta!</td>\n",
       "      <td>Italian Restaurant</td>\n",
       "      <td>25.185750</td>\n",
       "      <td>55.273635</td>\n",
       "    </tr>\n",
       "    <tr>\n",
       "      <th>2</th>\n",
       "      <td>Business Bay</td>\n",
       "      <td>BHAR</td>\n",
       "      <td>Middle Eastern Restaurant</td>\n",
       "      <td>25.185598</td>\n",
       "      <td>55.273534</td>\n",
       "    </tr>\n",
       "    <tr>\n",
       "      <th>3</th>\n",
       "      <td>Business Bay</td>\n",
       "      <td>Six Senses Spa Dubai</td>\n",
       "      <td>Spa</td>\n",
       "      <td>25.185825</td>\n",
       "      <td>55.273563</td>\n",
       "    </tr>\n",
       "    <tr>\n",
       "      <th>4</th>\n",
       "      <td>Business Bay</td>\n",
       "      <td>Gulf Court Hotel Business Bay</td>\n",
       "      <td>Hotel</td>\n",
       "      <td>25.182194</td>\n",
       "      <td>55.274875</td>\n",
       "    </tr>\n",
       "  </tbody>\n",
       "</table>\n",
       "</div>"
      ],
      "text/plain": [
       "   neighborhood                               name                 categories  \\\n",
       "0  Business Bay  Renaissance Downtown Hotel, Dubai                      Hotel   \n",
       "1  Business Bay                             Basta!         Italian Restaurant   \n",
       "2  Business Bay                               BHAR  Middle Eastern Restaurant   \n",
       "3  Business Bay               Six Senses Spa Dubai                        Spa   \n",
       "4  Business Bay      Gulf Court Hotel Business Bay                      Hotel   \n",
       "\n",
       "         lat        lng  \n",
       "0  25.185675  55.273650  \n",
       "1  25.185750  55.273635  \n",
       "2  25.185598  55.273534  \n",
       "3  25.185825  55.273563  \n",
       "4  25.182194  55.274875  "
      ]
     },
     "execution_count": 17,
     "metadata": {},
     "output_type": "execute_result"
    }
   ],
   "source": [
    "#define objects for 'Business_Bay' index [11] in Geo\n",
    "neighborhood_latitude = Geo.loc[11, 'Latitude'] # neighborhood latitude value\n",
    "neighborhood_longitude = Geo.loc[11, 'Longitude'] # neighborhood longitude value\n",
    "neighborhood_name = Geo.loc[11, 'Neighborhood'] # neighborhood name\n",
    "\n",
    "#step 1 - create the correct GET request URL\n",
    "url = 'https://api.foursquare.com/v2/venues/explore?&client_id={}&client_secret={}&v={}&ll={},{}&radius={}&limit={}'.format(\n",
    "    CLIENT_ID, \n",
    "    CLIENT_SECRET, \n",
    "    VERSION, \n",
    "    neighborhood_latitude, \n",
    "    neighborhood_longitude, \n",
    "    radius, \n",
    "    LIMIT)\n",
    "\n",
    "results = requests.get(url).json()\n",
    "\n",
    "venues = results['response']['groups'][0]['items']\n",
    "    \n",
    "df_Business_Bay = json_normalize(venues) # flatten JSON\n",
    "\n",
    "# filter columns\n",
    "filtered_columns = ['venue.name', 'venue.categories', 'venue.location.lat', 'venue.location.lng']\n",
    "df_Business_Bay = df_Business_Bay.loc[:, filtered_columns]\n",
    "\n",
    "# filter the category for each row\n",
    "df_Business_Bay['venue.categories'] = df_Business_Bay.apply(get_category_type, axis=1)\n",
    "\n",
    "# clean columns\n",
    "\n",
    "df_Business_Bay.columns = [col.split(\".\")[-1] for col in df_Business_Bay.columns]\n",
    "df_Business_Bay.insert(0, 'neighborhood', 'Business Bay')\n",
    "\n",
    "print('{} venues were returned by Foursquare.'.format(df_Business_Bay.shape[0]))\n",
    "df_Business_Bay.head()"
   ]
  },
  {
   "cell_type": "markdown",
   "metadata": {},
   "source": [
    "**index # 12 Jumeirah Lakes Towers**"
   ]
  },
  {
   "cell_type": "code",
   "execution_count": 18,
   "metadata": {},
   "outputs": [
    {
     "name": "stdout",
     "output_type": "stream",
     "text": [
      "36 venues were returned by Foursquare.\n"
     ]
    },
    {
     "data": {
      "text/html": [
       "<div>\n",
       "<style scoped>\n",
       "    .dataframe tbody tr th:only-of-type {\n",
       "        vertical-align: middle;\n",
       "    }\n",
       "\n",
       "    .dataframe tbody tr th {\n",
       "        vertical-align: top;\n",
       "    }\n",
       "\n",
       "    .dataframe thead th {\n",
       "        text-align: right;\n",
       "    }\n",
       "</style>\n",
       "<table border=\"1\" class=\"dataframe\">\n",
       "  <thead>\n",
       "    <tr style=\"text-align: right;\">\n",
       "      <th></th>\n",
       "      <th>neighborhood</th>\n",
       "      <th>name</th>\n",
       "      <th>categories</th>\n",
       "      <th>lat</th>\n",
       "      <th>lng</th>\n",
       "    </tr>\n",
       "  </thead>\n",
       "  <tbody>\n",
       "    <tr>\n",
       "      <th>0</th>\n",
       "      <td>Jumeirah Lakes Towers</td>\n",
       "      <td>Bait Maryam</td>\n",
       "      <td>Theme Restaurant</td>\n",
       "      <td>25.070765</td>\n",
       "      <td>55.141889</td>\n",
       "    </tr>\n",
       "    <tr>\n",
       "      <th>1</th>\n",
       "      <td>Jumeirah Lakes Towers</td>\n",
       "      <td>Wokyo Noodle Bar</td>\n",
       "      <td>Noodle House</td>\n",
       "      <td>25.068151</td>\n",
       "      <td>55.140931</td>\n",
       "    </tr>\n",
       "    <tr>\n",
       "      <th>2</th>\n",
       "      <td>Jumeirah Lakes Towers</td>\n",
       "      <td>Betawi</td>\n",
       "      <td>Indonesian Restaurant</td>\n",
       "      <td>25.069993</td>\n",
       "      <td>55.141876</td>\n",
       "    </tr>\n",
       "    <tr>\n",
       "      <th>3</th>\n",
       "      <td>Jumeirah Lakes Towers</td>\n",
       "      <td>Golositalia</td>\n",
       "      <td>Italian Restaurant</td>\n",
       "      <td>25.069462</td>\n",
       "      <td>55.140268</td>\n",
       "    </tr>\n",
       "    <tr>\n",
       "      <th>4</th>\n",
       "      <td>Jumeirah Lakes Towers</td>\n",
       "      <td>Fidelity Fitness Club</td>\n",
       "      <td>Gym</td>\n",
       "      <td>25.068784</td>\n",
       "      <td>55.141660</td>\n",
       "    </tr>\n",
       "  </tbody>\n",
       "</table>\n",
       "</div>"
      ],
      "text/plain": [
       "            neighborhood                   name             categories  \\\n",
       "0  Jumeirah Lakes Towers            Bait Maryam       Theme Restaurant   \n",
       "1  Jumeirah Lakes Towers       Wokyo Noodle Bar           Noodle House   \n",
       "2  Jumeirah Lakes Towers                 Betawi  Indonesian Restaurant   \n",
       "3  Jumeirah Lakes Towers            Golositalia     Italian Restaurant   \n",
       "4  Jumeirah Lakes Towers  Fidelity Fitness Club                    Gym   \n",
       "\n",
       "         lat        lng  \n",
       "0  25.070765  55.141889  \n",
       "1  25.068151  55.140931  \n",
       "2  25.069993  55.141876  \n",
       "3  25.069462  55.140268  \n",
       "4  25.068784  55.141660  "
      ]
     },
     "execution_count": 18,
     "metadata": {},
     "output_type": "execute_result"
    }
   ],
   "source": [
    "#define objects for 'JLT' index [12] in Geo\n",
    "neighborhood_latitude = Geo.loc[12, 'Latitude'] # neighborhood latitude value\n",
    "neighborhood_longitude = Geo.loc[12, 'Longitude'] # neighborhood longitude value\n",
    "neighborhood_name = Geo.loc[12, 'Neighborhood'] # neighborhood name\n",
    "\n",
    "#step 1 - create the correct GET request URL\n",
    "url = 'https://api.foursquare.com/v2/venues/explore?&client_id={}&client_secret={}&v={}&ll={},{}&radius={}&limit={}'.format(\n",
    "    CLIENT_ID, \n",
    "    CLIENT_SECRET, \n",
    "    VERSION, \n",
    "    neighborhood_latitude, \n",
    "    neighborhood_longitude, \n",
    "    radius, \n",
    "    LIMIT)\n",
    "\n",
    "results = requests.get(url).json()\n",
    "\n",
    "venues = results['response']['groups'][0]['items']\n",
    "    \n",
    "df_JLT = json_normalize(venues) # flatten JSON\n",
    "\n",
    "# filter columns\n",
    "filtered_columns = ['venue.name', 'venue.categories', 'venue.location.lat', 'venue.location.lng']\n",
    "df_JLT = df_JLT.loc[:, filtered_columns]\n",
    "\n",
    "# filter the category for each row\n",
    "df_JLT['venue.categories'] = df_JLT.apply(get_category_type, axis=1)\n",
    "\n",
    "# clean columns\n",
    "\n",
    "df_JLT.columns = [col.split(\".\")[-1] for col in df_JLT.columns]\n",
    "df_JLT.insert(0, 'neighborhood', 'Jumeirah Lakes Towers')\n",
    "\n",
    "print('{} venues were returned by Foursquare.'.format(df_JLT.shape[0]))\n",
    "df_JLT.head()"
   ]
  },
  {
   "cell_type": "markdown",
   "metadata": {},
   "source": [
    "**index 13 Barsha Heights**"
   ]
  },
  {
   "cell_type": "code",
   "execution_count": 19,
   "metadata": {},
   "outputs": [
    {
     "name": "stdout",
     "output_type": "stream",
     "text": [
      "60 venues were returned by Foursquare.\n"
     ]
    },
    {
     "data": {
      "text/html": [
       "<div>\n",
       "<style scoped>\n",
       "    .dataframe tbody tr th:only-of-type {\n",
       "        vertical-align: middle;\n",
       "    }\n",
       "\n",
       "    .dataframe tbody tr th {\n",
       "        vertical-align: top;\n",
       "    }\n",
       "\n",
       "    .dataframe thead th {\n",
       "        text-align: right;\n",
       "    }\n",
       "</style>\n",
       "<table border=\"1\" class=\"dataframe\">\n",
       "  <thead>\n",
       "    <tr style=\"text-align: right;\">\n",
       "      <th></th>\n",
       "      <th>neighborhood</th>\n",
       "      <th>name</th>\n",
       "      <th>categories</th>\n",
       "      <th>lat</th>\n",
       "      <th>lng</th>\n",
       "    </tr>\n",
       "  </thead>\n",
       "  <tbody>\n",
       "    <tr>\n",
       "      <th>0</th>\n",
       "      <td>Barsha Heights</td>\n",
       "      <td>AURIS INN Al MUHANNA Hotel</td>\n",
       "      <td>Hotel</td>\n",
       "      <td>25.094750</td>\n",
       "      <td>55.177058</td>\n",
       "    </tr>\n",
       "    <tr>\n",
       "      <th>1</th>\n",
       "      <td>Barsha Heights</td>\n",
       "      <td>Beef King</td>\n",
       "      <td>Chinese Restaurant</td>\n",
       "      <td>25.096673</td>\n",
       "      <td>55.175715</td>\n",
       "    </tr>\n",
       "    <tr>\n",
       "      <th>2</th>\n",
       "      <td>Barsha Heights</td>\n",
       "      <td>TRYP by Wyndham Dubai</td>\n",
       "      <td>Hotel</td>\n",
       "      <td>25.097234</td>\n",
       "      <td>55.174834</td>\n",
       "    </tr>\n",
       "    <tr>\n",
       "      <th>3</th>\n",
       "      <td>Barsha Heights</td>\n",
       "      <td>MMA Fitness Center</td>\n",
       "      <td>Gym / Fitness Center</td>\n",
       "      <td>25.096647</td>\n",
       "      <td>55.175727</td>\n",
       "    </tr>\n",
       "    <tr>\n",
       "      <th>4</th>\n",
       "      <td>Barsha Heights</td>\n",
       "      <td>Fuchsia</td>\n",
       "      <td>Thai Restaurant</td>\n",
       "      <td>25.095363</td>\n",
       "      <td>55.178584</td>\n",
       "    </tr>\n",
       "  </tbody>\n",
       "</table>\n",
       "</div>"
      ],
      "text/plain": [
       "     neighborhood                        name            categories  \\\n",
       "0  Barsha Heights  AURIS INN Al MUHANNA Hotel                 Hotel   \n",
       "1  Barsha Heights                   Beef King    Chinese Restaurant   \n",
       "2  Barsha Heights       TRYP by Wyndham Dubai                 Hotel   \n",
       "3  Barsha Heights          MMA Fitness Center  Gym / Fitness Center   \n",
       "4  Barsha Heights                     Fuchsia       Thai Restaurant   \n",
       "\n",
       "         lat        lng  \n",
       "0  25.094750  55.177058  \n",
       "1  25.096673  55.175715  \n",
       "2  25.097234  55.174834  \n",
       "3  25.096647  55.175727  \n",
       "4  25.095363  55.178584  "
      ]
     },
     "execution_count": 19,
     "metadata": {},
     "output_type": "execute_result"
    }
   ],
   "source": [
    "#define objects for 'Barsha' index [12] in Geo\n",
    "neighborhood_latitude = Geo.loc[13, 'Latitude'] # neighborhood latitude value\n",
    "neighborhood_longitude = Geo.loc[13, 'Longitude'] # neighborhood longitude value\n",
    "neighborhood_name = Geo.loc[13, 'Neighborhood'] # neighborhood name\n",
    "\n",
    "#step 1 - create the correct GET request URL\n",
    "url = 'https://api.foursquare.com/v2/venues/explore?&client_id={}&client_secret={}&v={}&ll={},{}&radius={}&limit={}'.format(\n",
    "    CLIENT_ID, \n",
    "    CLIENT_SECRET, \n",
    "    VERSION, \n",
    "    neighborhood_latitude, \n",
    "    neighborhood_longitude, \n",
    "    radius, \n",
    "    LIMIT)\n",
    "\n",
    "results = requests.get(url).json()\n",
    "\n",
    "venues = results['response']['groups'][0]['items']\n",
    "    \n",
    "df_Barsha = json_normalize(venues) # flatten JSON\n",
    "\n",
    "# filter columns\n",
    "filtered_columns = ['venue.name', 'venue.categories', 'venue.location.lat', 'venue.location.lng']\n",
    "df_Barsha = df_Barsha.loc[:, filtered_columns]\n",
    "\n",
    "# filter the category for each row\n",
    "df_Barsha['venue.categories'] = df_Barsha.apply(get_category_type, axis=1)\n",
    "\n",
    "# clean columns\n",
    "\n",
    "df_Barsha.columns = [col.split(\".\")[-1] for col in df_Barsha.columns]\n",
    "df_Barsha.insert(0, 'neighborhood', 'Barsha Heights')\n",
    "\n",
    "print('{} venues were returned by Foursquare.'.format(df_Barsha.shape[0]))\n",
    "df_Barsha.head()"
   ]
  },
  {
   "cell_type": "markdown",
   "metadata": {},
   "source": [
    "**analysis of venue distribution**"
   ]
  },
  {
   "cell_type": "code",
   "execution_count": 20,
   "metadata": {},
   "outputs": [
    {
     "data": {
      "text/plain": [
       "(203, 6)"
      ]
     },
     "execution_count": 20,
     "metadata": {},
     "output_type": "execute_result"
    }
   ],
   "source": [
    "df_venues = pd.concat([df_Barsha, df_JLT, df_Business_Bay, df_DIFC, df_ASufouh])\n",
    "df_venues['count'] = 1\n",
    "df_venues.shape"
   ]
  },
  {
   "cell_type": "code",
   "execution_count": 21,
   "metadata": {},
   "outputs": [
    {
     "data": {
      "text/html": [
       "<div>\n",
       "<style scoped>\n",
       "    .dataframe tbody tr th:only-of-type {\n",
       "        vertical-align: middle;\n",
       "    }\n",
       "\n",
       "    .dataframe tbody tr th {\n",
       "        vertical-align: top;\n",
       "    }\n",
       "\n",
       "    .dataframe thead th {\n",
       "        text-align: right;\n",
       "    }\n",
       "</style>\n",
       "<table border=\"1\" class=\"dataframe\">\n",
       "  <thead>\n",
       "    <tr style=\"text-align: right;\">\n",
       "      <th></th>\n",
       "      <th>count</th>\n",
       "    </tr>\n",
       "    <tr>\n",
       "      <th>neighborhood</th>\n",
       "      <th></th>\n",
       "    </tr>\n",
       "  </thead>\n",
       "  <tbody>\n",
       "    <tr>\n",
       "      <th>Al Sufouh</th>\n",
       "      <td>5</td>\n",
       "    </tr>\n",
       "    <tr>\n",
       "      <th>Barsha Heights</th>\n",
       "      <td>60</td>\n",
       "    </tr>\n",
       "    <tr>\n",
       "      <th>Business Bay</th>\n",
       "      <td>23</td>\n",
       "    </tr>\n",
       "    <tr>\n",
       "      <th>DIFC</th>\n",
       "      <td>79</td>\n",
       "    </tr>\n",
       "    <tr>\n",
       "      <th>Jumeirah Lakes Towers</th>\n",
       "      <td>36</td>\n",
       "    </tr>\n",
       "  </tbody>\n",
       "</table>\n",
       "</div>"
      ],
      "text/plain": [
       "                       count\n",
       "neighborhood                \n",
       "Al Sufouh                  5\n",
       "Barsha Heights            60\n",
       "Business Bay              23\n",
       "DIFC                      79\n",
       "Jumeirah Lakes Towers     36"
      ]
     },
     "execution_count": 21,
     "metadata": {},
     "output_type": "execute_result"
    }
   ],
   "source": [
    "total_venues = pd.pivot_table(df_venues,index=[\"neighborhood\"], values=[\"count\"],aggfunc=np.sum)\n",
    "total_venues"
   ]
  },
  {
   "cell_type": "code",
   "execution_count": 22,
   "metadata": {},
   "outputs": [
    {
     "data": {
      "text/plain": [
       "(94, 7)"
      ]
     },
     "execution_count": 22,
     "metadata": {},
     "output_type": "execute_result"
    }
   ],
   "source": [
    "df_venues2 = df_venues.copy()\n",
    "df_venues3 = df_venues.copy()\n",
    "df_venues_rest = df_venues2[df_venues2['categories'].str.contains('Restaurant')].reset_index(drop=True)\n",
    "df_venues_rest['Venue Type'] = 'Restaurant'\n",
    "df_venues_hotel = df_venues3[df_venues3['categories'].str.contains('Hotel')].reset_index(drop=True)\n",
    "df_venues_hotel['Venue Type'] = 'Hotel'\n",
    "df_venues_final = pd.concat([df_venues_rest,df_venues_hotel]).reset_index(drop=True)\n",
    "df_venues_final.shape"
   ]
  },
  {
   "cell_type": "code",
   "execution_count": 23,
   "metadata": {},
   "outputs": [
    {
     "data": {
      "text/html": [
       "<div>\n",
       "<style scoped>\n",
       "    .dataframe tbody tr th:only-of-type {\n",
       "        vertical-align: middle;\n",
       "    }\n",
       "\n",
       "    .dataframe tbody tr th {\n",
       "        vertical-align: top;\n",
       "    }\n",
       "\n",
       "    .dataframe thead th {\n",
       "        text-align: right;\n",
       "    }\n",
       "</style>\n",
       "<table border=\"1\" class=\"dataframe\">\n",
       "  <thead>\n",
       "    <tr style=\"text-align: right;\">\n",
       "      <th></th>\n",
       "      <th></th>\n",
       "      <th>count</th>\n",
       "    </tr>\n",
       "    <tr>\n",
       "      <th>neighborhood</th>\n",
       "      <th>Venue Type</th>\n",
       "      <th></th>\n",
       "    </tr>\n",
       "  </thead>\n",
       "  <tbody>\n",
       "    <tr>\n",
       "      <th rowspan=\"2\" valign=\"top\">Barsha Heights</th>\n",
       "      <th>Hotel</th>\n",
       "      <td>14</td>\n",
       "    </tr>\n",
       "    <tr>\n",
       "      <th>Restaurant</th>\n",
       "      <td>17</td>\n",
       "    </tr>\n",
       "    <tr>\n",
       "      <th rowspan=\"2\" valign=\"top\">Business Bay</th>\n",
       "      <th>Hotel</th>\n",
       "      <td>4</td>\n",
       "    </tr>\n",
       "    <tr>\n",
       "      <th>Restaurant</th>\n",
       "      <td>12</td>\n",
       "    </tr>\n",
       "    <tr>\n",
       "      <th rowspan=\"2\" valign=\"top\">DIFC</th>\n",
       "      <th>Hotel</th>\n",
       "      <td>6</td>\n",
       "    </tr>\n",
       "    <tr>\n",
       "      <th>Restaurant</th>\n",
       "      <td>27</td>\n",
       "    </tr>\n",
       "    <tr>\n",
       "      <th rowspan=\"2\" valign=\"top\">Jumeirah Lakes Towers</th>\n",
       "      <th>Hotel</th>\n",
       "      <td>1</td>\n",
       "    </tr>\n",
       "    <tr>\n",
       "      <th>Restaurant</th>\n",
       "      <td>13</td>\n",
       "    </tr>\n",
       "  </tbody>\n",
       "</table>\n",
       "</div>"
      ],
      "text/plain": [
       "                                  count\n",
       "neighborhood          Venue Type       \n",
       "Barsha Heights        Hotel          14\n",
       "                      Restaurant     17\n",
       "Business Bay          Hotel           4\n",
       "                      Restaurant     12\n",
       "DIFC                  Hotel           6\n",
       "                      Restaurant     27\n",
       "Jumeirah Lakes Towers Hotel           1\n",
       "                      Restaurant     13"
      ]
     },
     "execution_count": 23,
     "metadata": {},
     "output_type": "execute_result"
    }
   ],
   "source": [
    "pivot = pd.pivot_table(df_venues_final,index=[\"neighborhood\",\"Venue Type\"], values=[\"count\"],aggfunc=np.sum)\n",
    "pivot"
   ]
  },
  {
   "cell_type": "code",
   "execution_count": 24,
   "metadata": {},
   "outputs": [
    {
     "data": {
      "text/plain": [
       "<matplotlib.axes._subplots.AxesSubplot at 0x7f023c0d7a20>"
      ]
     },
     "execution_count": 24,
     "metadata": {},
     "output_type": "execute_result"
    }
   ],
   "source": [
    "box = df_venues_final.groupby('neighborhood')['Venue Type']\\\n",
    "    .value_counts()\\\n",
    "    .unstack(level=1)\\\n",
    "    .plot.bar(stacked=True)\n",
    "box"
   ]
  },
  {
   "cell_type": "markdown",
   "metadata": {
    "colab_type": "text",
    "id": "trKZLuQtQcqz"
   },
   "source": [
    "**create 'one hot' file with dummy values by venue category**"
   ]
  },
  {
   "cell_type": "code",
   "execution_count": 25,
   "metadata": {
    "colab": {
     "base_uri": "https://localhost:8080/",
     "height": 307
    },
    "colab_type": "code",
    "id": "B7raMc-2Qbyi",
    "outputId": "20635324-f073-4bee-92aa-4fd3d5dd2498"
   },
   "outputs": [
    {
     "data": {
      "text/html": [
       "<div>\n",
       "<style scoped>\n",
       "    .dataframe tbody tr th:only-of-type {\n",
       "        vertical-align: middle;\n",
       "    }\n",
       "\n",
       "    .dataframe tbody tr th {\n",
       "        vertical-align: top;\n",
       "    }\n",
       "\n",
       "    .dataframe thead th {\n",
       "        text-align: right;\n",
       "    }\n",
       "</style>\n",
       "<table border=\"1\" class=\"dataframe\">\n",
       "  <thead>\n",
       "    <tr style=\"text-align: right;\">\n",
       "      <th></th>\n",
       "      <th>neighborhood</th>\n",
       "      <th>African Restaurant</th>\n",
       "      <th>American Restaurant</th>\n",
       "      <th>Asian Restaurant</th>\n",
       "      <th>Belgian Restaurant</th>\n",
       "      <th>Chinese Restaurant</th>\n",
       "      <th>Comfort Food Restaurant</th>\n",
       "      <th>English Restaurant</th>\n",
       "      <th>French Restaurant</th>\n",
       "      <th>German Restaurant</th>\n",
       "      <th>...</th>\n",
       "      <th>Molecular Gastronomy Restaurant</th>\n",
       "      <th>Peruvian Restaurant</th>\n",
       "      <th>Restaurant</th>\n",
       "      <th>Seafood Restaurant</th>\n",
       "      <th>Spanish Restaurant</th>\n",
       "      <th>Tapas Restaurant</th>\n",
       "      <th>Thai Restaurant</th>\n",
       "      <th>Theme Restaurant</th>\n",
       "      <th>Turkish Restaurant</th>\n",
       "      <th>Vietnamese Restaurant</th>\n",
       "    </tr>\n",
       "  </thead>\n",
       "  <tbody>\n",
       "    <tr>\n",
       "      <th>0</th>\n",
       "      <td>Barsha Heights</td>\n",
       "      <td>0</td>\n",
       "      <td>0</td>\n",
       "      <td>0</td>\n",
       "      <td>0</td>\n",
       "      <td>1</td>\n",
       "      <td>0</td>\n",
       "      <td>0</td>\n",
       "      <td>0</td>\n",
       "      <td>0</td>\n",
       "      <td>...</td>\n",
       "      <td>0</td>\n",
       "      <td>0</td>\n",
       "      <td>0</td>\n",
       "      <td>0</td>\n",
       "      <td>0</td>\n",
       "      <td>0</td>\n",
       "      <td>0</td>\n",
       "      <td>0</td>\n",
       "      <td>0</td>\n",
       "      <td>0</td>\n",
       "    </tr>\n",
       "    <tr>\n",
       "      <th>1</th>\n",
       "      <td>Barsha Heights</td>\n",
       "      <td>0</td>\n",
       "      <td>0</td>\n",
       "      <td>0</td>\n",
       "      <td>0</td>\n",
       "      <td>0</td>\n",
       "      <td>0</td>\n",
       "      <td>0</td>\n",
       "      <td>0</td>\n",
       "      <td>0</td>\n",
       "      <td>...</td>\n",
       "      <td>0</td>\n",
       "      <td>0</td>\n",
       "      <td>0</td>\n",
       "      <td>0</td>\n",
       "      <td>0</td>\n",
       "      <td>0</td>\n",
       "      <td>1</td>\n",
       "      <td>0</td>\n",
       "      <td>0</td>\n",
       "      <td>0</td>\n",
       "    </tr>\n",
       "    <tr>\n",
       "      <th>2</th>\n",
       "      <td>Barsha Heights</td>\n",
       "      <td>0</td>\n",
       "      <td>0</td>\n",
       "      <td>0</td>\n",
       "      <td>0</td>\n",
       "      <td>0</td>\n",
       "      <td>0</td>\n",
       "      <td>0</td>\n",
       "      <td>0</td>\n",
       "      <td>0</td>\n",
       "      <td>...</td>\n",
       "      <td>0</td>\n",
       "      <td>0</td>\n",
       "      <td>0</td>\n",
       "      <td>0</td>\n",
       "      <td>0</td>\n",
       "      <td>0</td>\n",
       "      <td>0</td>\n",
       "      <td>0</td>\n",
       "      <td>0</td>\n",
       "      <td>0</td>\n",
       "    </tr>\n",
       "    <tr>\n",
       "      <th>3</th>\n",
       "      <td>Barsha Heights</td>\n",
       "      <td>0</td>\n",
       "      <td>0</td>\n",
       "      <td>0</td>\n",
       "      <td>0</td>\n",
       "      <td>0</td>\n",
       "      <td>1</td>\n",
       "      <td>0</td>\n",
       "      <td>0</td>\n",
       "      <td>0</td>\n",
       "      <td>...</td>\n",
       "      <td>0</td>\n",
       "      <td>0</td>\n",
       "      <td>0</td>\n",
       "      <td>0</td>\n",
       "      <td>0</td>\n",
       "      <td>0</td>\n",
       "      <td>0</td>\n",
       "      <td>0</td>\n",
       "      <td>0</td>\n",
       "      <td>0</td>\n",
       "    </tr>\n",
       "    <tr>\n",
       "      <th>4</th>\n",
       "      <td>Barsha Heights</td>\n",
       "      <td>0</td>\n",
       "      <td>0</td>\n",
       "      <td>0</td>\n",
       "      <td>0</td>\n",
       "      <td>0</td>\n",
       "      <td>0</td>\n",
       "      <td>0</td>\n",
       "      <td>0</td>\n",
       "      <td>0</td>\n",
       "      <td>...</td>\n",
       "      <td>0</td>\n",
       "      <td>0</td>\n",
       "      <td>0</td>\n",
       "      <td>0</td>\n",
       "      <td>0</td>\n",
       "      <td>0</td>\n",
       "      <td>0</td>\n",
       "      <td>0</td>\n",
       "      <td>0</td>\n",
       "      <td>0</td>\n",
       "    </tr>\n",
       "  </tbody>\n",
       "</table>\n",
       "<p>5 rows × 33 columns</p>\n",
       "</div>"
      ],
      "text/plain": [
       "     neighborhood  African Restaurant  American Restaurant  Asian Restaurant  \\\n",
       "0  Barsha Heights                   0                    0                 0   \n",
       "1  Barsha Heights                   0                    0                 0   \n",
       "2  Barsha Heights                   0                    0                 0   \n",
       "3  Barsha Heights                   0                    0                 0   \n",
       "4  Barsha Heights                   0                    0                 0   \n",
       "\n",
       "   Belgian Restaurant  Chinese Restaurant  Comfort Food Restaurant  \\\n",
       "0                   0                   1                        0   \n",
       "1                   0                   0                        0   \n",
       "2                   0                   0                        0   \n",
       "3                   0                   0                        1   \n",
       "4                   0                   0                        0   \n",
       "\n",
       "   English Restaurant  French Restaurant  German Restaurant  ...  \\\n",
       "0                   0                  0                  0  ...   \n",
       "1                   0                  0                  0  ...   \n",
       "2                   0                  0                  0  ...   \n",
       "3                   0                  0                  0  ...   \n",
       "4                   0                  0                  0  ...   \n",
       "\n",
       "   Molecular Gastronomy Restaurant  Peruvian Restaurant  Restaurant  \\\n",
       "0                                0                    0           0   \n",
       "1                                0                    0           0   \n",
       "2                                0                    0           0   \n",
       "3                                0                    0           0   \n",
       "4                                0                    0           0   \n",
       "\n",
       "   Seafood Restaurant  Spanish Restaurant  Tapas Restaurant  Thai Restaurant  \\\n",
       "0                   0                   0                 0                0   \n",
       "1                   0                   0                 0                1   \n",
       "2                   0                   0                 0                0   \n",
       "3                   0                   0                 0                0   \n",
       "4                   0                   0                 0                0   \n",
       "\n",
       "   Theme Restaurant  Turkish Restaurant  Vietnamese Restaurant  \n",
       "0                 0                   0                      0  \n",
       "1                 0                   0                      0  \n",
       "2                 0                   0                      0  \n",
       "3                 0                   0                      0  \n",
       "4                 0                   0                      0  \n",
       "\n",
       "[5 rows x 33 columns]"
      ]
     },
     "execution_count": 25,
     "metadata": {},
     "output_type": "execute_result"
    }
   ],
   "source": [
    "# one hot encoding\n",
    "dubai_onehot = pd.get_dummies(df_venues_final[['categories']], prefix=\"\", prefix_sep=\"\")\n",
    "\n",
    "# add neighborhood column back to dataframe\n",
    "dubai_onehot['neighborhood'] = df_venues_final['neighborhood'] \n",
    "\n",
    "# move neighborhood column to the first column\n",
    "fixed_columns = [dubai_onehot.columns[-1]] + list(dubai_onehot.columns[:-1])\n",
    "dubai_onehot = dubai_onehot[fixed_columns]\n",
    "\n",
    "dubai_onehot.head()"
   ]
  },
  {
   "cell_type": "markdown",
   "metadata": {
    "colab_type": "text",
    "id": "V_N25pkrQRb2"
   },
   "source": [
    "**Next, let's group rows by neighborhood and by taking the mean of the frequency of occurrence of each category**"
   ]
  },
  {
   "cell_type": "code",
   "execution_count": 26,
   "metadata": {
    "colab": {
     "base_uri": "https://localhost:8080/",
     "height": 1735
    },
    "colab_type": "code",
    "id": "tMf9VZOZP4sw",
    "outputId": "45ed0cb1-3723-40e0-980c-ad30f9de061b"
   },
   "outputs": [
    {
     "data": {
      "text/html": [
       "<div>\n",
       "<style scoped>\n",
       "    .dataframe tbody tr th:only-of-type {\n",
       "        vertical-align: middle;\n",
       "    }\n",
       "\n",
       "    .dataframe tbody tr th {\n",
       "        vertical-align: top;\n",
       "    }\n",
       "\n",
       "    .dataframe thead th {\n",
       "        text-align: right;\n",
       "    }\n",
       "</style>\n",
       "<table border=\"1\" class=\"dataframe\">\n",
       "  <thead>\n",
       "    <tr style=\"text-align: right;\">\n",
       "      <th></th>\n",
       "      <th>neighborhood</th>\n",
       "      <th>African Restaurant</th>\n",
       "      <th>American Restaurant</th>\n",
       "      <th>Asian Restaurant</th>\n",
       "      <th>Belgian Restaurant</th>\n",
       "      <th>Chinese Restaurant</th>\n",
       "      <th>Comfort Food Restaurant</th>\n",
       "      <th>English Restaurant</th>\n",
       "      <th>French Restaurant</th>\n",
       "      <th>German Restaurant</th>\n",
       "      <th>...</th>\n",
       "      <th>Molecular Gastronomy Restaurant</th>\n",
       "      <th>Peruvian Restaurant</th>\n",
       "      <th>Restaurant</th>\n",
       "      <th>Seafood Restaurant</th>\n",
       "      <th>Spanish Restaurant</th>\n",
       "      <th>Tapas Restaurant</th>\n",
       "      <th>Thai Restaurant</th>\n",
       "      <th>Theme Restaurant</th>\n",
       "      <th>Turkish Restaurant</th>\n",
       "      <th>Vietnamese Restaurant</th>\n",
       "    </tr>\n",
       "  </thead>\n",
       "  <tbody>\n",
       "    <tr>\n",
       "      <th>0</th>\n",
       "      <td>Barsha Heights</td>\n",
       "      <td>0.000000</td>\n",
       "      <td>0.000000</td>\n",
       "      <td>0.000000</td>\n",
       "      <td>0.000000</td>\n",
       "      <td>0.032258</td>\n",
       "      <td>0.032258</td>\n",
       "      <td>0.000000</td>\n",
       "      <td>0.032258</td>\n",
       "      <td>0.0000</td>\n",
       "      <td>...</td>\n",
       "      <td>0.000000</td>\n",
       "      <td>0.000000</td>\n",
       "      <td>0.000000</td>\n",
       "      <td>0.000000</td>\n",
       "      <td>0.000000</td>\n",
       "      <td>0.0000</td>\n",
       "      <td>0.064516</td>\n",
       "      <td>0.000000</td>\n",
       "      <td>0.032258</td>\n",
       "      <td>0.000000</td>\n",
       "    </tr>\n",
       "    <tr>\n",
       "      <th>1</th>\n",
       "      <td>Business Bay</td>\n",
       "      <td>0.000000</td>\n",
       "      <td>0.000000</td>\n",
       "      <td>0.000000</td>\n",
       "      <td>0.000000</td>\n",
       "      <td>0.062500</td>\n",
       "      <td>0.000000</td>\n",
       "      <td>0.000000</td>\n",
       "      <td>0.062500</td>\n",
       "      <td>0.0625</td>\n",
       "      <td>...</td>\n",
       "      <td>0.000000</td>\n",
       "      <td>0.000000</td>\n",
       "      <td>0.187500</td>\n",
       "      <td>0.000000</td>\n",
       "      <td>0.000000</td>\n",
       "      <td>0.0625</td>\n",
       "      <td>0.000000</td>\n",
       "      <td>0.000000</td>\n",
       "      <td>0.000000</td>\n",
       "      <td>0.000000</td>\n",
       "    </tr>\n",
       "    <tr>\n",
       "      <th>2</th>\n",
       "      <td>DIFC</td>\n",
       "      <td>0.030303</td>\n",
       "      <td>0.030303</td>\n",
       "      <td>0.060606</td>\n",
       "      <td>0.030303</td>\n",
       "      <td>0.030303</td>\n",
       "      <td>0.000000</td>\n",
       "      <td>0.030303</td>\n",
       "      <td>0.030303</td>\n",
       "      <td>0.0000</td>\n",
       "      <td>...</td>\n",
       "      <td>0.000000</td>\n",
       "      <td>0.030303</td>\n",
       "      <td>0.121212</td>\n",
       "      <td>0.030303</td>\n",
       "      <td>0.000000</td>\n",
       "      <td>0.0000</td>\n",
       "      <td>0.000000</td>\n",
       "      <td>0.000000</td>\n",
       "      <td>0.000000</td>\n",
       "      <td>0.000000</td>\n",
       "    </tr>\n",
       "    <tr>\n",
       "      <th>3</th>\n",
       "      <td>Jumeirah Lakes Towers</td>\n",
       "      <td>0.000000</td>\n",
       "      <td>0.000000</td>\n",
       "      <td>0.000000</td>\n",
       "      <td>0.000000</td>\n",
       "      <td>0.000000</td>\n",
       "      <td>0.000000</td>\n",
       "      <td>0.000000</td>\n",
       "      <td>0.000000</td>\n",
       "      <td>0.0000</td>\n",
       "      <td>...</td>\n",
       "      <td>0.071429</td>\n",
       "      <td>0.000000</td>\n",
       "      <td>0.000000</td>\n",
       "      <td>0.000000</td>\n",
       "      <td>0.071429</td>\n",
       "      <td>0.0000</td>\n",
       "      <td>0.071429</td>\n",
       "      <td>0.071429</td>\n",
       "      <td>0.000000</td>\n",
       "      <td>0.142857</td>\n",
       "    </tr>\n",
       "  </tbody>\n",
       "</table>\n",
       "<p>4 rows × 33 columns</p>\n",
       "</div>"
      ],
      "text/plain": [
       "            neighborhood  African Restaurant  American Restaurant  \\\n",
       "0         Barsha Heights            0.000000             0.000000   \n",
       "1           Business Bay            0.000000             0.000000   \n",
       "2                   DIFC            0.030303             0.030303   \n",
       "3  Jumeirah Lakes Towers            0.000000             0.000000   \n",
       "\n",
       "   Asian Restaurant  Belgian Restaurant  Chinese Restaurant  \\\n",
       "0          0.000000            0.000000            0.032258   \n",
       "1          0.000000            0.000000            0.062500   \n",
       "2          0.060606            0.030303            0.030303   \n",
       "3          0.000000            0.000000            0.000000   \n",
       "\n",
       "   Comfort Food Restaurant  English Restaurant  French Restaurant  \\\n",
       "0                 0.032258            0.000000           0.032258   \n",
       "1                 0.000000            0.000000           0.062500   \n",
       "2                 0.000000            0.030303           0.030303   \n",
       "3                 0.000000            0.000000           0.000000   \n",
       "\n",
       "   German Restaurant  ...  Molecular Gastronomy Restaurant  \\\n",
       "0             0.0000  ...                         0.000000   \n",
       "1             0.0625  ...                         0.000000   \n",
       "2             0.0000  ...                         0.000000   \n",
       "3             0.0000  ...                         0.071429   \n",
       "\n",
       "   Peruvian Restaurant  Restaurant  Seafood Restaurant  Spanish Restaurant  \\\n",
       "0             0.000000    0.000000            0.000000            0.000000   \n",
       "1             0.000000    0.187500            0.000000            0.000000   \n",
       "2             0.030303    0.121212            0.030303            0.000000   \n",
       "3             0.000000    0.000000            0.000000            0.071429   \n",
       "\n",
       "   Tapas Restaurant  Thai Restaurant  Theme Restaurant  Turkish Restaurant  \\\n",
       "0            0.0000         0.064516          0.000000            0.032258   \n",
       "1            0.0625         0.000000          0.000000            0.000000   \n",
       "2            0.0000         0.000000          0.000000            0.000000   \n",
       "3            0.0000         0.071429          0.071429            0.000000   \n",
       "\n",
       "   Vietnamese Restaurant  \n",
       "0               0.000000  \n",
       "1               0.000000  \n",
       "2               0.000000  \n",
       "3               0.142857  \n",
       "\n",
       "[4 rows x 33 columns]"
      ]
     },
     "execution_count": 26,
     "metadata": {},
     "output_type": "execute_result"
    }
   ],
   "source": [
    "dubai_grouped = dubai_onehot.groupby('neighborhood').mean().reset_index()\n",
    "dubai_grouped"
   ]
  },
  {
   "cell_type": "code",
   "execution_count": 27,
   "metadata": {
    "colab": {
     "base_uri": "https://localhost:8080/",
     "height": 34
    },
    "colab_type": "code",
    "id": "WBSfvLAcQz_P",
    "outputId": "50352465-e597-43b6-927f-2401780c32d6"
   },
   "outputs": [
    {
     "data": {
      "text/plain": [
       "(4, 33)"
      ]
     },
     "execution_count": 27,
     "metadata": {},
     "output_type": "execute_result"
    }
   ],
   "source": [
    "dubai_grouped.shape"
   ]
  },
  {
   "cell_type": "markdown",
   "metadata": {
    "colab_type": "text",
    "id": "qYNZTT0lREhN"
   },
   "source": [
    "**Let's print each neighborhood along with the top 15 most common venues**"
   ]
  },
  {
   "cell_type": "code",
   "execution_count": 28,
   "metadata": {
    "colab": {
     "base_uri": "https://localhost:8080/",
     "height": 5831
    },
    "colab_type": "code",
    "id": "hZ2CA7-5Q_Zp",
    "outputId": "1848c36f-1f87-44a5-df69-6a6b812ab67b"
   },
   "outputs": [
    {
     "name": "stdout",
     "output_type": "stream",
     "text": [
      "----Barsha Heights----\n",
      "                         venue  freq\n",
      "0                        Hotel  0.42\n",
      "1    Middle Eastern Restaurant  0.19\n",
      "2              Thai Restaurant  0.06\n",
      "3           Italian Restaurant  0.06\n",
      "4           Turkish Restaurant  0.03\n",
      "5            Indian Restaurant  0.03\n",
      "6           Mexican Restaurant  0.03\n",
      "7          Lebanese Restaurant  0.03\n",
      "8                    Hotel Bar  0.03\n",
      "9            French Restaurant  0.03\n",
      "10     Comfort Food Restaurant  0.03\n",
      "11          Chinese Restaurant  0.03\n",
      "12          Spanish Restaurant  0.00\n",
      "13  Modern European Restaurant  0.00\n",
      "14            Theme Restaurant  0.00\n",
      "\n",
      "\n",
      "----Business Bay----\n",
      "                              venue  freq\n",
      "0                             Hotel  0.25\n",
      "1                        Restaurant  0.19\n",
      "2         Middle Eastern Restaurant  0.12\n",
      "3                Italian Restaurant  0.12\n",
      "4                Chinese Restaurant  0.06\n",
      "5               Japanese Restaurant  0.06\n",
      "6                  Tapas Restaurant  0.06\n",
      "7                 French Restaurant  0.06\n",
      "8                 German Restaurant  0.06\n",
      "9        Modern European Restaurant  0.00\n",
      "10  Molecular Gastronomy Restaurant  0.00\n",
      "11              Peruvian Restaurant  0.00\n",
      "12               African Restaurant  0.00\n",
      "13               Seafood Restaurant  0.00\n",
      "14               Mexican Restaurant  0.00\n",
      "\n",
      "\n",
      "----DIFC----\n",
      "                        venue  freq\n",
      "0          Italian Restaurant  0.15\n",
      "1                       Hotel  0.15\n",
      "2                  Restaurant  0.12\n",
      "3           Indian Restaurant  0.09\n",
      "4            Asian Restaurant  0.06\n",
      "5   Middle Eastern Restaurant  0.06\n",
      "6         Peruvian Restaurant  0.03\n",
      "7          Seafood Restaurant  0.03\n",
      "8          Mexican Restaurant  0.03\n",
      "9    Mediterranean Restaurant  0.03\n",
      "10        American Restaurant  0.03\n",
      "11         African Restaurant  0.03\n",
      "12           Greek Restaurant  0.03\n",
      "13          French Restaurant  0.03\n",
      "14         English Restaurant  0.03\n",
      "\n",
      "\n",
      "----Jumeirah Lakes Towers----\n",
      "                              venue  freq\n",
      "0             Vietnamese Restaurant  0.14\n",
      "1                Italian Restaurant  0.14\n",
      "2                             Hotel  0.07\n",
      "3                  Theme Restaurant  0.07\n",
      "4                   Thai Restaurant  0.07\n",
      "5                Spanish Restaurant  0.07\n",
      "6   Molecular Gastronomy Restaurant  0.07\n",
      "7        Modern European Restaurant  0.07\n",
      "8             Indonesian Restaurant  0.07\n",
      "9                 Indian Restaurant  0.07\n",
      "10                Korean Restaurant  0.07\n",
      "11                 Greek Restaurant  0.07\n",
      "12                        Hotel Bar  0.00\n",
      "13          Comfort Food Restaurant  0.00\n",
      "14               Turkish Restaurant  0.00\n",
      "\n",
      "\n"
     ]
    }
   ],
   "source": [
    "num_top_venues = 15\n",
    "\n",
    "for hood in dubai_grouped['neighborhood']:\n",
    "    print(\"----\"+hood+\"----\")\n",
    "    temp = dubai_grouped[dubai_grouped['neighborhood'] == hood].T.reset_index()\n",
    "    temp.columns = ['venue','freq']\n",
    "    temp = temp.iloc[1:]\n",
    "    temp['freq'] = temp['freq'].astype(float)\n",
    "    temp = temp.round({'freq': 2})\n",
    "    print(temp.sort_values('freq', ascending=False).reset_index(drop=True).head(num_top_venues))\n",
    "    print('\\n')"
   ]
  },
  {
   "cell_type": "markdown",
   "metadata": {
    "colab_type": "text",
    "id": "rctYzv0rR1wY"
   },
   "source": [
    "**First, let's write a function to sort the venues in descending order.**"
   ]
  },
  {
   "cell_type": "code",
   "execution_count": 29,
   "metadata": {
    "colab": {},
    "colab_type": "code",
    "id": "WZf7UzqhRhFw"
   },
   "outputs": [],
   "source": [
    "def return_most_common_venues(row, num_top_venues):\n",
    "    row_categories = row.iloc[1:]\n",
    "    row_categories_sorted = row_categories.sort_values(ascending=False)\n",
    "    \n",
    "    return row_categories_sorted.index.values[0:num_top_venues]"
   ]
  },
  {
   "cell_type": "code",
   "execution_count": 30,
   "metadata": {
    "colab": {
     "base_uri": "https://localhost:8080/",
     "height": 1227
    },
    "colab_type": "code",
    "id": "DYW-0WPRR4jF",
    "outputId": "cc0fa5f6-49a5-419a-9eb3-513002276bf2"
   },
   "outputs": [
    {
     "data": {
      "text/html": [
       "<div>\n",
       "<style scoped>\n",
       "    .dataframe tbody tr th:only-of-type {\n",
       "        vertical-align: middle;\n",
       "    }\n",
       "\n",
       "    .dataframe tbody tr th {\n",
       "        vertical-align: top;\n",
       "    }\n",
       "\n",
       "    .dataframe thead th {\n",
       "        text-align: right;\n",
       "    }\n",
       "</style>\n",
       "<table border=\"1\" class=\"dataframe\">\n",
       "  <thead>\n",
       "    <tr style=\"text-align: right;\">\n",
       "      <th></th>\n",
       "      <th>neighborhood</th>\n",
       "      <th>1st Most Common Venue</th>\n",
       "      <th>2nd Most Common Venue</th>\n",
       "      <th>3rd Most Common Venue</th>\n",
       "      <th>4th Most Common Venue</th>\n",
       "      <th>5th Most Common Venue</th>\n",
       "    </tr>\n",
       "  </thead>\n",
       "  <tbody>\n",
       "    <tr>\n",
       "      <th>0</th>\n",
       "      <td>Barsha Heights</td>\n",
       "      <td>Hotel</td>\n",
       "      <td>Middle Eastern Restaurant</td>\n",
       "      <td>Italian Restaurant</td>\n",
       "      <td>Thai Restaurant</td>\n",
       "      <td>French Restaurant</td>\n",
       "    </tr>\n",
       "    <tr>\n",
       "      <th>1</th>\n",
       "      <td>Business Bay</td>\n",
       "      <td>Hotel</td>\n",
       "      <td>Restaurant</td>\n",
       "      <td>Italian Restaurant</td>\n",
       "      <td>Middle Eastern Restaurant</td>\n",
       "      <td>German Restaurant</td>\n",
       "    </tr>\n",
       "    <tr>\n",
       "      <th>2</th>\n",
       "      <td>DIFC</td>\n",
       "      <td>Hotel</td>\n",
       "      <td>Italian Restaurant</td>\n",
       "      <td>Restaurant</td>\n",
       "      <td>Indian Restaurant</td>\n",
       "      <td>Middle Eastern Restaurant</td>\n",
       "    </tr>\n",
       "    <tr>\n",
       "      <th>3</th>\n",
       "      <td>Jumeirah Lakes Towers</td>\n",
       "      <td>Vietnamese Restaurant</td>\n",
       "      <td>Italian Restaurant</td>\n",
       "      <td>Molecular Gastronomy Restaurant</td>\n",
       "      <td>Indonesian Restaurant</td>\n",
       "      <td>Greek Restaurant</td>\n",
       "    </tr>\n",
       "  </tbody>\n",
       "</table>\n",
       "</div>"
      ],
      "text/plain": [
       "            neighborhood  1st Most Common Venue      2nd Most Common Venue  \\\n",
       "0         Barsha Heights                  Hotel  Middle Eastern Restaurant   \n",
       "1           Business Bay                  Hotel                 Restaurant   \n",
       "2                   DIFC                  Hotel         Italian Restaurant   \n",
       "3  Jumeirah Lakes Towers  Vietnamese Restaurant         Italian Restaurant   \n",
       "\n",
       "             3rd Most Common Venue      4th Most Common Venue  \\\n",
       "0               Italian Restaurant            Thai Restaurant   \n",
       "1               Italian Restaurant  Middle Eastern Restaurant   \n",
       "2                       Restaurant          Indian Restaurant   \n",
       "3  Molecular Gastronomy Restaurant      Indonesian Restaurant   \n",
       "\n",
       "       5th Most Common Venue  \n",
       "0          French Restaurant  \n",
       "1          German Restaurant  \n",
       "2  Middle Eastern Restaurant  \n",
       "3           Greek Restaurant  "
      ]
     },
     "execution_count": 30,
     "metadata": {},
     "output_type": "execute_result"
    }
   ],
   "source": [
    "num_top_venues = 5\n",
    "\n",
    "indicators = ['st', 'nd', 'rd']\n",
    "\n",
    "# create columns according to number of top venues\n",
    "columns = ['neighborhood']\n",
    "for ind in np.arange(num_top_venues):\n",
    "    try:\n",
    "        columns.append('{}{} Most Common Venue'.format(ind+1, indicators[ind]))\n",
    "    except:\n",
    "        columns.append('{}th Most Common Venue'.format(ind+1))\n",
    "\n",
    "# create a new dataframe\n",
    "neighborhoods_venues_sorted = pd.DataFrame(columns=columns)\n",
    "neighborhoods_venues_sorted['neighborhood'] = dubai_grouped['neighborhood']\n",
    "\n",
    "for ind in np.arange(dubai_grouped.shape[0]):\n",
    "    neighborhoods_venues_sorted.iloc[ind, 1:] = return_most_common_venues(dubai_grouped.iloc[ind, :], num_top_venues)\n",
    "\n",
    "neighborhoods_venues_sorted"
   ]
  },
  {
   "cell_type": "code",
   "execution_count": 31,
   "metadata": {},
   "outputs": [
    {
     "data": {
      "text/html": [
       "<div style=\"width:100%;\"><div style=\"position:relative;width:100%;height:0;padding-bottom:60%;\"><iframe src=\"data:text/html;charset=utf-8;base64,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\" style=\"position:absolute;width:100%;height:100%;left:0;top:0;border:none !important;\" allowfullscreen webkitallowfullscreen mozallowfullscreen></iframe></div></div>"
      ],
      "text/plain": [
       "<folium.folium.Map at 0x7f023bd3ae80>"
      ]
     },
     "execution_count": 31,
     "metadata": {},
     "output_type": "execute_result"
    }
   ],
   "source": [
    "#define objects for 'DIFC' index [10] in Geo\n",
    "neighborhood_latitude = Geo.loc[10, 'Latitude'] # neighborhood latitude value\n",
    "neighborhood_longitude = Geo.loc[10, 'Longitude'] # neighborhood longitude value\n",
    "neighborhood_name = Geo.loc[10, 'Neighborhood'] # neighborhood name\n",
    "\n",
    "map_DIFC = folium.Map(location=[neighborhood_latitude, neighborhood_longitude], zoom_start=15)\n",
    "\n",
    "# add markers to map\n",
    "for lat, lng, name, categories in zip(df_DIFC['lat'], df_DIFC['lng'], df_DIFC['name'], df_DIFC['categories']):\n",
    "  label = '{},{}'.format(categories,name)\n",
    "  label = folium.Popup(label, parse_html=True)\n",
    "  folium.CircleMarker(\n",
    "      [lat, lng],\n",
    "      radius=5,\n",
    "      popup=label,\n",
    "      color='blue',\n",
    "      fill=True,\n",
    "      fill_color='#3186cc',\n",
    "      fill_opacity=0.7).add_to(map_DIFC) \n",
    "    \n",
    "map_DIFC"
   ]
  },
  {
   "cell_type": "code",
   "execution_count": null,
   "metadata": {},
   "outputs": [],
   "source": []
  }
 ],
 "metadata": {
  "colab": {
   "collapsed_sections": [
    "R2zm8VlDtaCm",
    "Qv-oqoC93ifR",
    "kQhgQLap34kg",
    "nkBIYNid53xV",
    "PrWssPrPInDZ",
    "JmnY9hAaJNy9",
    "r9pHJ1gXNOtq"
   ],
   "name": "Capstone_final_project.ipynb",
   "provenance": [],
   "version": "0.3.2"
  },
  "kernelspec": {
   "display_name": "Python 3",
   "language": "python",
   "name": "python3"
  },
  "language_info": {
   "codemirror_mode": {
    "name": "ipython",
    "version": 3
   },
   "file_extension": ".py",
   "mimetype": "text/x-python",
   "name": "python",
   "nbconvert_exporter": "python",
   "pygments_lexer": "ipython3",
   "version": "3.6.8"
  }
 },
 "nbformat": 4,
 "nbformat_minor": 2
}
