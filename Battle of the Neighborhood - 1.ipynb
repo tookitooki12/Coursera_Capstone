{
 "cells": [
  {
   "cell_type": "markdown",
   "metadata": {},
   "source": [
    "# Coursera Capstone Project - Battle of the Neighborhood Pt. 1\n",
    "\n",
    "## Introduction / Problem\n",
    "\n",
    "Dubai is a renowned city for the wealthy. It is a popular destination for travelers on business as well as leisure. The city with it's central location and warm climate on top of it's capital flow presents a great opportunity for restaurants and hotel businesses. \n",
    "\n",
    "In this exercise, we will explore FourSquare API data to determine where a new hotel/restaurant business would succeed in Dubai. Our business will need to be based in close proximity to nearby major Airports and be near high-rent areas that offer a demographic of individuals most likely to have disposable income to spend on eating out.\n",
    "\n",
    "The venue will also need to be in a neighborhood that is commercially active but not flooding with competition. \n",
    "\n"
   ]
  },
  {
   "cell_type": "code",
   "execution_count": null,
   "metadata": {},
   "outputs": [],
   "source": []
  }
 ],
 "metadata": {
  "kernelspec": {
   "display_name": "Python 3",
   "language": "python",
   "name": "python3"
  },
  "language_info": {
   "codemirror_mode": {
    "name": "ipython",
    "version": 3
   },
   "file_extension": ".py",
   "mimetype": "text/x-python",
   "name": "python",
   "nbconvert_exporter": "python",
   "pygments_lexer": "ipython3",
   "version": "3.6.8"
  }
 },
 "nbformat": 4,
 "nbformat_minor": 2
}
